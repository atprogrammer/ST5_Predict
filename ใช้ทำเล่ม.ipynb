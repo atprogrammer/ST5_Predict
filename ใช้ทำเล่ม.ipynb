{
  "cells": [
    {
      "cell_type": "code",
      "execution_count": 1,
      "metadata": {
        "id": "z0wYIAwlbe_2"
      },
      "outputs": [],
      "source": [
        "import os\n",
        "import tensorflow as tf\n",
        "import numpy as np\n",
        "import pandas as pd\n",
        "import seaborn as sn\n",
        "from matplotlib import pyplot as plt\n",
        "from tensorflow import keras\n",
        "from tensorflow.keras import layers\n",
        "from sklearn.model_selection import train_test_split\n",
        "from sklearn.preprocessing import OneHotEncoder\n",
        "\n",
        "import datetime as dt"
      ]
    },
    {
      "cell_type": "code",
      "execution_count": 2,
      "metadata": {
        "colab": {
          "base_uri": "https://localhost:8080/"
        },
        "id": "OuCEeeD8be_4",
        "outputId": "1e9c2a88-2a12-431b-ef1e-5113bc3ac154"
      },
      "outputs": [
        {
          "name": "stderr",
          "output_type": "stream",
          "text": [
            "<ipython-input-2-ea1691178a36>:1: DtypeWarning: Columns (3,4,5,6,8,9,10,14,39,40,41,43,44,87,91,95,96) have mixed types. Specify dtype option on import or set low_memory=False.\n",
            "  data = pd.read_csv('../../../../../../Users/kanoksak/Desktop/Tableau/MHCI/mhci.csv', parse_dates=['data_create'])\n"
          ]
        }
      ],
      "source": [
        "data = pd.read_csv('../../../../../../Users/kanoksak/Desktop/Tableau/MHCI/mhci.csv', parse_dates=['data_create'])\n"
      ]
    },
    {
      "cell_type": "code",
      "execution_count": 3,
      "metadata": {
        "colab": {
          "base_uri": "https://localhost:8080/"
        },
        "id": "01cNhD0ibe_4",
        "outputId": "6d2e7f27-c988-4096-de81-0b1f31cf1194"
      },
      "outputs": [
        {
          "data": {
            "text/plain": [
              "(3689936, 102)"
            ]
          },
          "execution_count": 3,
          "metadata": {},
          "output_type": "execute_result"
        }
      ],
      "source": [
        "df=data #ถ่ายโอนข้อมูล\n",
        "df.shape"
      ]
    },
    {
      "cell_type": "code",
      "execution_count": 4,
      "metadata": {
        "id": "8kyYk3Qgjmpz"
      },
      "outputs": [],
      "source": [
        "df['data_create'] = pd.to_datetime(df['data_create'],infer_datetime_format=True)"
      ]
    },
    {
      "cell_type": "code",
      "execution_count": 5,
      "metadata": {
        "colab": {
          "base_uri": "https://localhost:8080/"
        },
        "id": "sLeEHTI3jo1G",
        "outputId": "f8df8b39-9d78-4f2e-e71c-cb5793531b58"
      },
      "outputs": [
        {
          "data": {
            "text/plain": [
              "(1382341, 102)"
            ]
          },
          "execution_count": 5,
          "metadata": {},
          "output_type": "execute_result"
        }
      ],
      "source": [
        "df=df.loc[(df['data_create']>='2021-10-01')]\n",
        "df.shape"
      ]
    },
    {
      "cell_type": "code",
      "execution_count": 6,
      "metadata": {
        "colab": {
          "base_uri": "https://localhost:8080/",
          "height": 386
        },
        "id": "chjXHRYbbe_5",
        "outputId": "90447ad9-4973-486e-d2e6-707e33ab23df"
      },
      "outputs": [
        {
          "data": {
            "text/html": [
              "<div>\n",
              "<style scoped>\n",
              "    .dataframe tbody tr th:only-of-type {\n",
              "        vertical-align: middle;\n",
              "    }\n",
              "\n",
              "    .dataframe tbody tr th {\n",
              "        vertical-align: top;\n",
              "    }\n",
              "\n",
              "    .dataframe thead th {\n",
              "        text-align: right;\n",
              "    }\n",
              "</style>\n",
              "<table border=\"1\" class=\"dataframe\">\n",
              "  <thead>\n",
              "    <tr style=\"text-align: right;\">\n",
              "      <th></th>\n",
              "      <th>id</th>\n",
              "      <th>data_create</th>\n",
              "      <th>type</th>\n",
              "      <th>group_taker</th>\n",
              "      <th>name_taker</th>\n",
              "      <th>surname_taker</th>\n",
              "      <th>gender_taker</th>\n",
              "      <th>age_taker</th>\n",
              "      <th>position_taker</th>\n",
              "      <th>work_taker</th>\n",
              "      <th>...</th>\n",
              "      <th>person</th>\n",
              "      <th>group_data</th>\n",
              "      <th>family</th>\n",
              "      <th>doctor</th>\n",
              "      <th>departments</th>\n",
              "      <th>other</th>\n",
              "      <th>c_trace</th>\n",
              "      <th>trace</th>\n",
              "      <th>contact</th>\n",
              "      <th>ok</th>\n",
              "    </tr>\n",
              "  </thead>\n",
              "  <tbody>\n",
              "    <tr>\n",
              "      <th>631939</th>\n",
              "      <td>1739321</td>\n",
              "      <td>2021-10-01 00:00:00</td>\n",
              "      <td>2</td>\n",
              "      <td>อสม.</td>\n",
              "      <td>มณี</td>\n",
              "      <td>เฉยบรรดิษฐ</td>\n",
              "      <td>หญิง</td>\n",
              "      <td>56</td>\n",
              "      <td>อสม.</td>\n",
              "      <td>บ้าน</td>\n",
              "      <td>...</td>\n",
              "      <td>NaN</td>\n",
              "      <td>NaN</td>\n",
              "      <td>NaN</td>\n",
              "      <td>NaN</td>\n",
              "      <td>NaN</td>\n",
              "      <td>NaN</td>\n",
              "      <td>NaN</td>\n",
              "      <td>NaN</td>\n",
              "      <td>NaN</td>\n",
              "      <td>NaN</td>\n",
              "    </tr>\n",
              "    <tr>\n",
              "      <th>631940</th>\n",
              "      <td>1739322</td>\n",
              "      <td>2021-10-01 00:03:00</td>\n",
              "      <td>2</td>\n",
              "      <td>อสม.</td>\n",
              "      <td>มณี</td>\n",
              "      <td>เฉยบรรดิษฐ</td>\n",
              "      <td>หญิง</td>\n",
              "      <td>56</td>\n",
              "      <td>อสม.</td>\n",
              "      <td>บ้าน</td>\n",
              "      <td>...</td>\n",
              "      <td>NaN</td>\n",
              "      <td>NaN</td>\n",
              "      <td>NaN</td>\n",
              "      <td>NaN</td>\n",
              "      <td>NaN</td>\n",
              "      <td>NaN</td>\n",
              "      <td>NaN</td>\n",
              "      <td>NaN</td>\n",
              "      <td>NaN</td>\n",
              "      <td>NaN</td>\n",
              "    </tr>\n",
              "    <tr>\n",
              "      <th>631941</th>\n",
              "      <td>1739323</td>\n",
              "      <td>2021-10-01 00:05:00</td>\n",
              "      <td>1</td>\n",
              "      <td>NaN</td>\n",
              "      <td>NaN</td>\n",
              "      <td>NaN</td>\n",
              "      <td>NaN</td>\n",
              "      <td>0</td>\n",
              "      <td>NaN</td>\n",
              "      <td>NaN</td>\n",
              "      <td>...</td>\n",
              "      <td>NaN</td>\n",
              "      <td>NaN</td>\n",
              "      <td>NaN</td>\n",
              "      <td>NaN</td>\n",
              "      <td>NaN</td>\n",
              "      <td>NaN</td>\n",
              "      <td>NaN</td>\n",
              "      <td>NaN</td>\n",
              "      <td>NaN</td>\n",
              "      <td>NaN</td>\n",
              "    </tr>\n",
              "    <tr>\n",
              "      <th>631942</th>\n",
              "      <td>1739324</td>\n",
              "      <td>2021-10-01 00:16:34</td>\n",
              "      <td>1</td>\n",
              "      <td>NaN</td>\n",
              "      <td>NaN</td>\n",
              "      <td>NaN</td>\n",
              "      <td>NaN</td>\n",
              "      <td>0</td>\n",
              "      <td>NaN</td>\n",
              "      <td>NaN</td>\n",
              "      <td>...</td>\n",
              "      <td>NaN</td>\n",
              "      <td>NaN</td>\n",
              "      <td>NaN</td>\n",
              "      <td>NaN</td>\n",
              "      <td>NaN</td>\n",
              "      <td>NaN</td>\n",
              "      <td>NaN</td>\n",
              "      <td>NaN</td>\n",
              "      <td>1.0</td>\n",
              "      <td>1.0</td>\n",
              "    </tr>\n",
              "    <tr>\n",
              "      <th>631943</th>\n",
              "      <td>1739325</td>\n",
              "      <td>2021-10-01 00:17:12</td>\n",
              "      <td>1</td>\n",
              "      <td>NaN</td>\n",
              "      <td>NaN</td>\n",
              "      <td>NaN</td>\n",
              "      <td>NaN</td>\n",
              "      <td>0</td>\n",
              "      <td>NaN</td>\n",
              "      <td>NaN</td>\n",
              "      <td>...</td>\n",
              "      <td>NaN</td>\n",
              "      <td>NaN</td>\n",
              "      <td>NaN</td>\n",
              "      <td>NaN</td>\n",
              "      <td>NaN</td>\n",
              "      <td>NaN</td>\n",
              "      <td>NaN</td>\n",
              "      <td>NaN</td>\n",
              "      <td>NaN</td>\n",
              "      <td>NaN</td>\n",
              "    </tr>\n",
              "  </tbody>\n",
              "</table>\n",
              "<p>5 rows × 102 columns</p>\n",
              "</div>"
            ],
            "text/plain": [
              "             id         data_create  type group_taker name_taker  \\\n",
              "631939  1739321 2021-10-01 00:00:00     2        อสม.        มณี   \n",
              "631940  1739322 2021-10-01 00:03:00     2        อสม.        มณี   \n",
              "631941  1739323 2021-10-01 00:05:00     1         NaN        NaN   \n",
              "631942  1739324 2021-10-01 00:16:34     1         NaN        NaN   \n",
              "631943  1739325 2021-10-01 00:17:12     1         NaN        NaN   \n",
              "\n",
              "       surname_taker gender_taker  age_taker position_taker work_taker  ...  \\\n",
              "631939    เฉยบรรดิษฐ         หญิง         56           อสม.       บ้าน  ...   \n",
              "631940    เฉยบรรดิษฐ         หญิง         56           อสม.       บ้าน  ...   \n",
              "631941           NaN          NaN          0            NaN        NaN  ...   \n",
              "631942           NaN          NaN          0            NaN        NaN  ...   \n",
              "631943           NaN          NaN          0            NaN        NaN  ...   \n",
              "\n",
              "       person group_data  family doctor departments  other  c_trace  trace  \\\n",
              "631939    NaN        NaN     NaN    NaN         NaN    NaN      NaN    NaN   \n",
              "631940    NaN        NaN     NaN    NaN         NaN    NaN      NaN    NaN   \n",
              "631941    NaN        NaN     NaN    NaN         NaN    NaN      NaN    NaN   \n",
              "631942    NaN        NaN     NaN    NaN         NaN    NaN      NaN    NaN   \n",
              "631943    NaN        NaN     NaN    NaN         NaN    NaN      NaN    NaN   \n",
              "\n",
              "        contact   ok  \n",
              "631939      NaN  NaN  \n",
              "631940      NaN  NaN  \n",
              "631941      NaN  NaN  \n",
              "631942      1.0  1.0  \n",
              "631943      NaN  NaN  \n",
              "\n",
              "[5 rows x 102 columns]"
            ]
          },
          "execution_count": 6,
          "metadata": {},
          "output_type": "execute_result"
        }
      ],
      "source": [
        "\n",
        "df.head()"
      ]
    },
    {
      "cell_type": "code",
      "execution_count": 7,
      "metadata": {
        "colab": {
          "base_uri": "https://localhost:8080/",
          "height": 206
        },
        "id": "b50D9BJ6be_5",
        "outputId": "f5e24959-794b-4246-c000-d6db68351084"
      },
      "outputs": [
        {
          "data": {
            "text/html": [
              "<div>\n",
              "<style scoped>\n",
              "    .dataframe tbody tr th:only-of-type {\n",
              "        vertical-align: middle;\n",
              "    }\n",
              "\n",
              "    .dataframe tbody tr th {\n",
              "        vertical-align: top;\n",
              "    }\n",
              "\n",
              "    .dataframe thead th {\n",
              "        text-align: right;\n",
              "    }\n",
              "</style>\n",
              "<table border=\"1\" class=\"dataframe\">\n",
              "  <thead>\n",
              "    <tr style=\"text-align: right;\">\n",
              "      <th></th>\n",
              "      <th>age</th>\n",
              "      <th>rq1</th>\n",
              "      <th>rq2</th>\n",
              "      <th>rq3</th>\n",
              "      <th>st_5</th>\n",
              "    </tr>\n",
              "  </thead>\n",
              "  <tbody>\n",
              "    <tr>\n",
              "      <th>631939</th>\n",
              "      <td>54</td>\n",
              "      <td>9</td>\n",
              "      <td>9</td>\n",
              "      <td>9</td>\n",
              "      <td>0</td>\n",
              "    </tr>\n",
              "    <tr>\n",
              "      <th>631940</th>\n",
              "      <td>50</td>\n",
              "      <td>10</td>\n",
              "      <td>10</td>\n",
              "      <td>10</td>\n",
              "      <td>0</td>\n",
              "    </tr>\n",
              "    <tr>\n",
              "      <th>631941</th>\n",
              "      <td>56</td>\n",
              "      <td>10</td>\n",
              "      <td>10</td>\n",
              "      <td>10</td>\n",
              "      <td>0</td>\n",
              "    </tr>\n",
              "    <tr>\n",
              "      <th>631942</th>\n",
              "      <td>39</td>\n",
              "      <td>5</td>\n",
              "      <td>7</td>\n",
              "      <td>5</td>\n",
              "      <td>14</td>\n",
              "    </tr>\n",
              "    <tr>\n",
              "      <th>631943</th>\n",
              "      <td>24</td>\n",
              "      <td>6</td>\n",
              "      <td>10</td>\n",
              "      <td>10</td>\n",
              "      <td>0</td>\n",
              "    </tr>\n",
              "  </tbody>\n",
              "</table>\n",
              "</div>"
            ],
            "text/plain": [
              "        age  rq1  rq2  rq3  st_5\n",
              "631939   54    9    9    9     0\n",
              "631940   50   10   10   10     0\n",
              "631941   56   10   10   10     0\n",
              "631942   39    5    7    5    14\n",
              "631943   24    6   10   10     0"
            ]
          },
          "execution_count": 7,
          "metadata": {},
          "output_type": "execute_result"
        }
      ],
      "source": [
        "# df=df[['gender','people_type','age','rq1','rq2'\n",
        "# ,'rq3','st_5']] \n",
        "\n",
        "df=df[['age','rq1','rq2'\n",
        ",'rq3','st_5']] \n",
        "\n",
        "df.head()"
      ]
    },
    {
      "cell_type": "code",
      "execution_count": 8,
      "metadata": {
        "colab": {
          "base_uri": "https://localhost:8080/"
        },
        "id": "w3AN6UPZnCzD",
        "outputId": "87fc4ed2-7bd5-4205-96fe-9de96833ee1a"
      },
      "outputs": [
        {
          "data": {
            "text/plain": [
              "age     0\n",
              "rq1     0\n",
              "rq2     0\n",
              "rq3     0\n",
              "st_5    0\n",
              "dtype: int64"
            ]
          },
          "execution_count": 8,
          "metadata": {},
          "output_type": "execute_result"
        }
      ],
      "source": [
        "df.isna().sum()"
      ]
    },
    {
      "cell_type": "code",
      "execution_count": 9,
      "metadata": {
        "id": "aPjr4xN2o5Y4"
      },
      "outputs": [],
      "source": [
        "df.dropna(inplace=True)"
      ]
    },
    {
      "cell_type": "code",
      "execution_count": 10,
      "metadata": {
        "colab": {
          "base_uri": "https://localhost:8080/"
        },
        "id": "FuWbs25LpJKu",
        "outputId": "88bba615-370f-40c5-969c-19be2e3a1d29"
      },
      "outputs": [
        {
          "data": {
            "text/plain": [
              "age     0\n",
              "rq1     0\n",
              "rq2     0\n",
              "rq3     0\n",
              "st_5    0\n",
              "dtype: int64"
            ]
          },
          "execution_count": 10,
          "metadata": {},
          "output_type": "execute_result"
        }
      ],
      "source": [
        "df.isna().sum()"
      ]
    },
    {
      "cell_type": "code",
      "execution_count": 11,
      "metadata": {
        "id": "1-_xZAzUGHjZ"
      },
      "outputs": [],
      "source": [
        "df = df.drop(df[(df.age < 0) | (df.age > 100)].index)"
      ]
    },
    {
      "cell_type": "code",
      "execution_count": 12,
      "metadata": {
        "colab": {
          "base_uri": "https://localhost:8080/"
        },
        "id": "MDib_bGvHvVf",
        "outputId": "e2bbbabf-b1c8-47bc-abe3-f881df8b9553"
      },
      "outputs": [
        {
          "data": {
            "text/plain": [
              "100"
            ]
          },
          "execution_count": 12,
          "metadata": {},
          "output_type": "execute_result"
        }
      ],
      "source": [
        "df['age'].max()"
      ]
    },
    {
      "cell_type": "code",
      "execution_count": 13,
      "metadata": {
        "colab": {
          "base_uri": "https://localhost:8080/"
        },
        "id": "9xx0u3esH6G9",
        "outputId": "9e73a5d2-9639-4c09-ca94-2c4b2e519152"
      },
      "outputs": [
        {
          "data": {
            "text/plain": [
              "0"
            ]
          },
          "execution_count": 13,
          "metadata": {},
          "output_type": "execute_result"
        }
      ],
      "source": [
        "df['age'].min()"
      ]
    },
    {
      "cell_type": "code",
      "execution_count": 14,
      "metadata": {
        "colab": {
          "base_uri": "https://localhost:8080/"
        },
        "id": "NSYEdlEPpXwX",
        "outputId": "cbd49132-7459-493c-eefc-77cc0045a34f"
      },
      "outputs": [
        {
          "data": {
            "text/plain": [
              "(1382270, 5)"
            ]
          },
          "execution_count": 14,
          "metadata": {},
          "output_type": "execute_result"
        }
      ],
      "source": [
        "df.shape"
      ]
    },
    {
      "cell_type": "code",
      "execution_count": 23,
      "metadata": {
        "colab": {
          "base_uri": "https://localhost:8080/",
          "height": 143
        },
        "id": "-L7GGcQkmsM7",
        "outputId": "6bb669a4-f4a2-4c26-c2b1-172f95a18758"
      },
      "outputs": [],
      "source": [
        "#df.groupby(['gender']).count()"
      ]
    },
    {
      "cell_type": "code",
      "execution_count": 24,
      "metadata": {
        "colab": {
          "base_uri": "https://localhost:8080/",
          "height": 363
        },
        "id": "slm5ADsrq3Co",
        "outputId": "14d6e18d-bc16-41ce-a6c2-60c75abd2357"
      },
      "outputs": [],
      "source": [
        "#df.groupby(['people_type']).count()"
      ]
    },
    {
      "cell_type": "code",
      "execution_count": 25,
      "metadata": {
        "id": "spolT48rtjAv"
      },
      "outputs": [],
      "source": [
        "#df=df.loc[(df['people_type'] == \"ประชาชน\") | (df['people_type'] == \"อสม\") | (df['people_type'] == \"เจ้าหน้าที่สาธารณสุข\")| (df['people_type'] == \"เจ้าหน้าที่หน่วยงานสังกัดอื่น\")| (df['people_type'] == \"บุคคลากรทางการศึกษา\")| (df['people_type'] == \"พระภิกษุ/สามเณร/นักบวช/ผู้นำศาสนา\")| (df['people_type'] == \"ผู้สัมผัสเสี่ยงสูง\")]"
      ]
    },
    {
      "cell_type": "code",
      "execution_count": 26,
      "metadata": {
        "colab": {
          "base_uri": "https://localhost:8080/",
          "height": 300
        },
        "id": "unui7Q5DvGBw",
        "outputId": "7b2ed650-d69e-406c-e4c5-fd5d971a35a2"
      },
      "outputs": [],
      "source": [
        "#df.groupby(['people_type']).count()"
      ]
    },
    {
      "cell_type": "code",
      "execution_count": 27,
      "metadata": {
        "colab": {
          "base_uri": "https://localhost:8080/",
          "height": 143
        },
        "id": "bp9pvhWHqSkC",
        "outputId": "7c903cc9-9356-4feb-9c2e-1ab441afdece"
      },
      "outputs": [],
      "source": [
        "# df.loc[df[\"gender\"] == \"ประชาชนชาย\", \"gender\"] = \"ชาย\"\n",
        "# df.loc[df[\"gender\"] == \"ประชาชนหญิ\", \"gender\"] = \"หญิง\"\n",
        "# df.groupby(['gender']).count()"
      ]
    },
    {
      "cell_type": "code",
      "execution_count": 15,
      "metadata": {
        "id": "tDAjg-xidE_U"
      },
      "outputs": [],
      "source": [
        "df1_1= df.loc[df['st_5'] >=8]\n",
        "for i in range(1000):\n",
        "    df1_2 = df1_1.take(np.random.permutation(len(df1_1))[:36400])"
      ]
    },
    {
      "cell_type": "code",
      "execution_count": 16,
      "metadata": {
        "colab": {
          "base_uri": "https://localhost:8080/"
        },
        "id": "vfdewr51hkKX",
        "outputId": "11effa8d-4505-4f87-8d29-25200d9896b5"
      },
      "outputs": [
        {
          "data": {
            "text/plain": [
              "(36400, 5)"
            ]
          },
          "execution_count": 16,
          "metadata": {},
          "output_type": "execute_result"
        }
      ],
      "source": [
        "df1_2.shape"
      ]
    },
    {
      "cell_type": "code",
      "execution_count": 17,
      "metadata": {
        "id": "XJBg9nWnhs5a"
      },
      "outputs": [],
      "source": [
        "df2_1= df.loc[df['st_5'] <8]\n",
        "for i in range(1000):\n",
        "    df2_2 = df2_1.take(np.random.permutation(len(df2_1))[:36400])"
      ]
    },
    {
      "cell_type": "code",
      "execution_count": 18,
      "metadata": {
        "colab": {
          "base_uri": "https://localhost:8080/"
        },
        "id": "b5HVEz11h1dd",
        "outputId": "e27a147d-ce21-4a4a-fae4-e2ab8ae311f1"
      },
      "outputs": [
        {
          "data": {
            "text/plain": [
              "(36400, 5)"
            ]
          },
          "execution_count": 18,
          "metadata": {},
          "output_type": "execute_result"
        }
      ],
      "source": [
        "df2_2.shape"
      ]
    },
    {
      "cell_type": "code",
      "execution_count": 19,
      "metadata": {
        "colab": {
          "base_uri": "https://localhost:8080/"
        },
        "id": "flHCkO_Ah7A7",
        "outputId": "02196da5-0daa-4655-82c2-4770a8ac1cd9"
      },
      "outputs": [
        {
          "name": "stderr",
          "output_type": "stream",
          "text": [
            "<ipython-input-19-925d04d78cd0>:1: FutureWarning: The frame.append method is deprecated and will be removed from pandas in a future version. Use pandas.concat instead.\n",
            "  df=df1_2.append(df2_2)\n"
          ]
        },
        {
          "data": {
            "text/plain": [
              "(72800, 5)"
            ]
          },
          "execution_count": 19,
          "metadata": {},
          "output_type": "execute_result"
        }
      ],
      "source": [
        "df=df1_2.append(df2_2)\n",
        "df.shape"
      ]
    },
    {
      "cell_type": "code",
      "execution_count": 20,
      "metadata": {
        "id": "vXnLFnxcgX3p"
      },
      "outputs": [],
      "source": [
        "df.to_csv('data.csv', index=False)"
      ]
    },
    {
      "cell_type": "code",
      "execution_count": 34,
      "metadata": {
        "colab": {
          "base_uri": "https://localhost:8080/",
          "height": 424
        },
        "id": "DD6_YCQ6lIFI",
        "outputId": "788df747-b537-422d-85fa-f10d86aa814c"
      },
      "outputs": [],
      "source": [
        "\n",
        "# dummies = pd.get_dummies(df['gender'])\n",
        "# df = pd.concat([df, dummies], axis = 1)\n",
        "# df"
      ]
    },
    {
      "cell_type": "code",
      "execution_count": 35,
      "metadata": {
        "colab": {
          "base_uri": "https://localhost:8080/",
          "height": 572
        },
        "id": "gRx-2-E1vhHo",
        "outputId": "21fd354e-0a2a-432a-b579-e3067c64b7e9"
      },
      "outputs": [],
      "source": [
        "\n",
        "# dummies = pd.get_dummies(df['people_type'])\n",
        "# df = pd.concat([df, dummies], axis = 1)\n",
        "# df"
      ]
    },
    {
      "cell_type": "code",
      "execution_count": 21,
      "metadata": {
        "colab": {
          "base_uri": "https://localhost:8080/",
          "height": 374
        },
        "id": "ZyUejKGQbe_6",
        "outputId": "06e37e4d-1792-4996-a4c9-bd5ba786b3ad"
      },
      "outputs": [
        {
          "data": {
            "text/html": [
              "<div>\n",
              "<style scoped>\n",
              "    .dataframe tbody tr th:only-of-type {\n",
              "        vertical-align: middle;\n",
              "    }\n",
              "\n",
              "    .dataframe tbody tr th {\n",
              "        vertical-align: top;\n",
              "    }\n",
              "\n",
              "    .dataframe thead th {\n",
              "        text-align: right;\n",
              "    }\n",
              "</style>\n",
              "<table border=\"1\" class=\"dataframe\">\n",
              "  <thead>\n",
              "    <tr style=\"text-align: right;\">\n",
              "      <th></th>\n",
              "      <th>age</th>\n",
              "      <th>rq1</th>\n",
              "      <th>rq2</th>\n",
              "      <th>rq3</th>\n",
              "      <th>st_5</th>\n",
              "      <th>st_5_len</th>\n",
              "    </tr>\n",
              "  </thead>\n",
              "  <tbody>\n",
              "    <tr>\n",
              "      <th>2324597</th>\n",
              "      <td>0.19</td>\n",
              "      <td>0.7</td>\n",
              "      <td>0.9</td>\n",
              "      <td>0.4</td>\n",
              "      <td>8</td>\n",
              "      <td>True</td>\n",
              "    </tr>\n",
              "    <tr>\n",
              "      <th>3448650</th>\n",
              "      <td>0.57</td>\n",
              "      <td>0.6</td>\n",
              "      <td>0.5</td>\n",
              "      <td>0.5</td>\n",
              "      <td>8</td>\n",
              "      <td>True</td>\n",
              "    </tr>\n",
              "    <tr>\n",
              "      <th>2891954</th>\n",
              "      <td>0.19</td>\n",
              "      <td>0.2</td>\n",
              "      <td>0.2</td>\n",
              "      <td>0.3</td>\n",
              "      <td>11</td>\n",
              "      <td>True</td>\n",
              "    </tr>\n",
              "    <tr>\n",
              "      <th>3575205</th>\n",
              "      <td>0.51</td>\n",
              "      <td>0.1</td>\n",
              "      <td>0.2</td>\n",
              "      <td>0.3</td>\n",
              "      <td>11</td>\n",
              "      <td>True</td>\n",
              "    </tr>\n",
              "    <tr>\n",
              "      <th>2497004</th>\n",
              "      <td>0.17</td>\n",
              "      <td>0.6</td>\n",
              "      <td>0.6</td>\n",
              "      <td>0.7</td>\n",
              "      <td>10</td>\n",
              "      <td>True</td>\n",
              "    </tr>\n",
              "  </tbody>\n",
              "</table>\n",
              "</div>"
            ],
            "text/plain": [
              "          age  rq1  rq2  rq3  st_5 st_5_len\n",
              "2324597  0.19  0.7  0.9  0.4     8     True\n",
              "3448650  0.57  0.6  0.5  0.5     8     True\n",
              "2891954  0.19  0.2  0.2  0.3    11     True\n",
              "3575205  0.51  0.1  0.2  0.3    11     True\n",
              "2497004  0.17  0.6  0.6  0.7    10     True"
            ]
          },
          "execution_count": 21,
          "metadata": {},
          "output_type": "execute_result"
        }
      ],
      "source": [
        "# sex = {'หญิง':0 , 'ชาย':1}          #แปลงค่าเพศ\n",
        "# df['gender'] = \\\n",
        "#     df['gender'].apply(sex.get)  \n",
        "# df['gender'] = df['gender'].fillna(df['gender'].mean()) #แทนค่าว่างด้วยค่าเฉลี่ย   \n",
        "\n",
        "# people_type = {'ประชาชน':0 , 'อสม':1 , 'เจ้าหน้าที่สาธารณสุข':2 , 'เจ้าหน้าที่หน่วยงานสังกัดอื่น':3 , 'บุคคลากรทางการศึกษา':4 , 'พระภิกษุ/สามเณร/นักบวช/ผู้นำศาสนา':5 , 'ผู้สัมผัสเสี่ยงสูง':6 , 'เจ้าหน้าที่เรือนจำ/ทัณฑสถาน':7 , 'ผู้ต้องราชทัณฑ์':8}        \n",
        "# df['people_type'] = \\\n",
        "#     df['people_type'].apply(people_type.get)  \n",
        "# df['people_type'] = \\\n",
        "#     df['people_type']=df['people_type'].div(df['people_type'].max()) \n",
        "# df['people_type'] = df['people_type'].fillna(df['people_type'].mean()) #แทนค่าว่างด้วยค่าเฉลี่ย   \n",
        "\n",
        "\n",
        "df['age'] = \\\n",
        "    df['age']=df['age'].div(df['age'].max())   #แปลงค่าอายุ\n",
        "df['age'] = df['age'].fillna(df['age'].mean()) #แทนค่าว่างด้วยค่าเฉลี่ย    \n",
        "\n",
        "df['rq1'] = \\\n",
        "    df['rq1']=df['rq1'].div(df['rq1'].max()) #rq ข้อ 1\n",
        "df['rq1'] = df['rq1'].fillna(df['rq1'].mean()) #แทนค่าว่างด้วยค่าเฉลี่ย  \n",
        "\n",
        "df['rq2'] = \\\n",
        "    df['rq2']=df['rq2'].div(df['rq2'].max()) #rq ข้อ 1\n",
        "df['rq2'] = df['rq2'].fillna(df['rq2'].mean()) #แทนค่าว่างด้วยค่าเฉลี่ย  \n",
        "\n",
        "df['rq3'] = \\\n",
        "    df['rq3']=df['rq3'].div(df['rq3'].max()) #rq ข้อ 1\n",
        "df['rq3'] = df['rq3'].fillna(df['rq3'].mean()) #แทนค่าว่างด้วยค่าเฉลี่ย  \n",
        "\n",
        "\n",
        "df['st_5'] = df['st_5'].fillna(0) #แทนค่าว่างด้วยค่า0\n",
        "df.loc[df['st_5'] < 8, 'st_5_len'] = 'False' \n",
        "df.loc[df['st_5'] >= 8, 'st_5_len'] = 'True' \n",
        "\n",
        "df2=df[['st_5_len']]  #เลือกข้อมูล test\n",
        "\n",
        "df.head()\n"
      ]
    },
    {
      "cell_type": "code",
      "execution_count": 22,
      "metadata": {
        "colab": {
          "base_uri": "https://localhost:8080/",
          "height": 1000
        },
        "id": "Klmp2LLrbe_7",
        "outputId": "e66460f3-c08f-4315-b82f-6e7db1aa00da"
      },
      "outputs": [
        {
          "name": "stderr",
          "output_type": "stream",
          "text": [
            "<ipython-input-22-81b0c2936568>:2: FutureWarning: In a future version of pandas all arguments of DataFrame.drop except for the argument 'labels' will be keyword-only.\n",
            "  X=df.drop('st_5', 1)\n",
            "<ipython-input-22-81b0c2936568>:3: FutureWarning: In a future version of pandas all arguments of DataFrame.drop except for the argument 'labels' will be keyword-only.\n",
            "  X=X.drop('st_5_len', 1)\n"
          ]
        },
        {
          "data": {
            "text/html": [
              "<div>\n",
              "<style scoped>\n",
              "    .dataframe tbody tr th:only-of-type {\n",
              "        vertical-align: middle;\n",
              "    }\n",
              "\n",
              "    .dataframe tbody tr th {\n",
              "        vertical-align: top;\n",
              "    }\n",
              "\n",
              "    .dataframe thead th {\n",
              "        text-align: right;\n",
              "    }\n",
              "</style>\n",
              "<table border=\"1\" class=\"dataframe\">\n",
              "  <thead>\n",
              "    <tr style=\"text-align: right;\">\n",
              "      <th></th>\n",
              "      <th>age</th>\n",
              "      <th>rq1</th>\n",
              "      <th>rq2</th>\n",
              "      <th>rq3</th>\n",
              "    </tr>\n",
              "  </thead>\n",
              "  <tbody>\n",
              "    <tr>\n",
              "      <th>2324597</th>\n",
              "      <td>0.19</td>\n",
              "      <td>0.7</td>\n",
              "      <td>0.9</td>\n",
              "      <td>0.4</td>\n",
              "    </tr>\n",
              "    <tr>\n",
              "      <th>3448650</th>\n",
              "      <td>0.57</td>\n",
              "      <td>0.6</td>\n",
              "      <td>0.5</td>\n",
              "      <td>0.5</td>\n",
              "    </tr>\n",
              "    <tr>\n",
              "      <th>2891954</th>\n",
              "      <td>0.19</td>\n",
              "      <td>0.2</td>\n",
              "      <td>0.2</td>\n",
              "      <td>0.3</td>\n",
              "    </tr>\n",
              "    <tr>\n",
              "      <th>3575205</th>\n",
              "      <td>0.51</td>\n",
              "      <td>0.1</td>\n",
              "      <td>0.2</td>\n",
              "      <td>0.3</td>\n",
              "    </tr>\n",
              "    <tr>\n",
              "      <th>2497004</th>\n",
              "      <td>0.17</td>\n",
              "      <td>0.6</td>\n",
              "      <td>0.6</td>\n",
              "      <td>0.7</td>\n",
              "    </tr>\n",
              "    <tr>\n",
              "      <th>3412026</th>\n",
              "      <td>0.28</td>\n",
              "      <td>0.6</td>\n",
              "      <td>0.6</td>\n",
              "      <td>0.8</td>\n",
              "    </tr>\n",
              "    <tr>\n",
              "      <th>3611646</th>\n",
              "      <td>0.19</td>\n",
              "      <td>1.0</td>\n",
              "      <td>1.0</td>\n",
              "      <td>1.0</td>\n",
              "    </tr>\n",
              "    <tr>\n",
              "      <th>1896117</th>\n",
              "      <td>0.47</td>\n",
              "      <td>0.2</td>\n",
              "      <td>0.1</td>\n",
              "      <td>0.2</td>\n",
              "    </tr>\n",
              "    <tr>\n",
              "      <th>3162217</th>\n",
              "      <td>0.24</td>\n",
              "      <td>0.5</td>\n",
              "      <td>0.5</td>\n",
              "      <td>0.7</td>\n",
              "    </tr>\n",
              "    <tr>\n",
              "      <th>2599318</th>\n",
              "      <td>0.40</td>\n",
              "      <td>0.1</td>\n",
              "      <td>0.8</td>\n",
              "      <td>0.3</td>\n",
              "    </tr>\n",
              "    <tr>\n",
              "      <th>2959729</th>\n",
              "      <td>0.43</td>\n",
              "      <td>0.8</td>\n",
              "      <td>0.8</td>\n",
              "      <td>0.5</td>\n",
              "    </tr>\n",
              "    <tr>\n",
              "      <th>3685187</th>\n",
              "      <td>0.13</td>\n",
              "      <td>0.4</td>\n",
              "      <td>0.4</td>\n",
              "      <td>0.6</td>\n",
              "    </tr>\n",
              "    <tr>\n",
              "      <th>3580927</th>\n",
              "      <td>0.27</td>\n",
              "      <td>0.1</td>\n",
              "      <td>0.2</td>\n",
              "      <td>0.5</td>\n",
              "    </tr>\n",
              "    <tr>\n",
              "      <th>2424744</th>\n",
              "      <td>0.53</td>\n",
              "      <td>0.7</td>\n",
              "      <td>0.7</td>\n",
              "      <td>0.9</td>\n",
              "    </tr>\n",
              "    <tr>\n",
              "      <th>2589399</th>\n",
              "      <td>0.23</td>\n",
              "      <td>0.1</td>\n",
              "      <td>0.1</td>\n",
              "      <td>0.5</td>\n",
              "    </tr>\n",
              "    <tr>\n",
              "      <th>1993360</th>\n",
              "      <td>0.15</td>\n",
              "      <td>0.4</td>\n",
              "      <td>0.4</td>\n",
              "      <td>0.2</td>\n",
              "    </tr>\n",
              "    <tr>\n",
              "      <th>2575472</th>\n",
              "      <td>0.18</td>\n",
              "      <td>0.7</td>\n",
              "      <td>1.0</td>\n",
              "      <td>0.9</td>\n",
              "    </tr>\n",
              "    <tr>\n",
              "      <th>2669553</th>\n",
              "      <td>0.16</td>\n",
              "      <td>0.3</td>\n",
              "      <td>0.3</td>\n",
              "      <td>0.3</td>\n",
              "    </tr>\n",
              "    <tr>\n",
              "      <th>3579261</th>\n",
              "      <td>0.28</td>\n",
              "      <td>0.4</td>\n",
              "      <td>0.2</td>\n",
              "      <td>0.7</td>\n",
              "    </tr>\n",
              "    <tr>\n",
              "      <th>2624100</th>\n",
              "      <td>0.16</td>\n",
              "      <td>0.8</td>\n",
              "      <td>0.8</td>\n",
              "      <td>0.6</td>\n",
              "    </tr>\n",
              "    <tr>\n",
              "      <th>3346190</th>\n",
              "      <td>0.23</td>\n",
              "      <td>0.1</td>\n",
              "      <td>0.3</td>\n",
              "      <td>0.2</td>\n",
              "    </tr>\n",
              "    <tr>\n",
              "      <th>2595885</th>\n",
              "      <td>0.25</td>\n",
              "      <td>1.0</td>\n",
              "      <td>0.5</td>\n",
              "      <td>0.5</td>\n",
              "    </tr>\n",
              "    <tr>\n",
              "      <th>3174580</th>\n",
              "      <td>0.45</td>\n",
              "      <td>0.6</td>\n",
              "      <td>0.4</td>\n",
              "      <td>0.7</td>\n",
              "    </tr>\n",
              "    <tr>\n",
              "      <th>2325976</th>\n",
              "      <td>0.14</td>\n",
              "      <td>0.5</td>\n",
              "      <td>0.5</td>\n",
              "      <td>0.2</td>\n",
              "    </tr>\n",
              "    <tr>\n",
              "      <th>3307058</th>\n",
              "      <td>0.28</td>\n",
              "      <td>0.3</td>\n",
              "      <td>0.3</td>\n",
              "      <td>0.3</td>\n",
              "    </tr>\n",
              "    <tr>\n",
              "      <th>2596828</th>\n",
              "      <td>0.25</td>\n",
              "      <td>0.1</td>\n",
              "      <td>0.1</td>\n",
              "      <td>0.5</td>\n",
              "    </tr>\n",
              "    <tr>\n",
              "      <th>2427089</th>\n",
              "      <td>0.44</td>\n",
              "      <td>0.5</td>\n",
              "      <td>0.5</td>\n",
              "      <td>0.5</td>\n",
              "    </tr>\n",
              "    <tr>\n",
              "      <th>2926877</th>\n",
              "      <td>0.20</td>\n",
              "      <td>0.9</td>\n",
              "      <td>0.9</td>\n",
              "      <td>0.5</td>\n",
              "    </tr>\n",
              "    <tr>\n",
              "      <th>3168079</th>\n",
              "      <td>0.19</td>\n",
              "      <td>0.4</td>\n",
              "      <td>0.1</td>\n",
              "      <td>0.2</td>\n",
              "    </tr>\n",
              "    <tr>\n",
              "      <th>3479899</th>\n",
              "      <td>0.24</td>\n",
              "      <td>0.4</td>\n",
              "      <td>0.4</td>\n",
              "      <td>0.4</td>\n",
              "    </tr>\n",
              "    <tr>\n",
              "      <th>3043749</th>\n",
              "      <td>0.19</td>\n",
              "      <td>0.2</td>\n",
              "      <td>0.4</td>\n",
              "      <td>0.7</td>\n",
              "    </tr>\n",
              "    <tr>\n",
              "      <th>2822854</th>\n",
              "      <td>0.35</td>\n",
              "      <td>0.8</td>\n",
              "      <td>0.8</td>\n",
              "      <td>0.9</td>\n",
              "    </tr>\n",
              "    <tr>\n",
              "      <th>3508810</th>\n",
              "      <td>0.33</td>\n",
              "      <td>0.6</td>\n",
              "      <td>0.3</td>\n",
              "      <td>1.0</td>\n",
              "    </tr>\n",
              "    <tr>\n",
              "      <th>3080415</th>\n",
              "      <td>0.45</td>\n",
              "      <td>0.8</td>\n",
              "      <td>0.8</td>\n",
              "      <td>0.8</td>\n",
              "    </tr>\n",
              "    <tr>\n",
              "      <th>2566297</th>\n",
              "      <td>0.21</td>\n",
              "      <td>0.5</td>\n",
              "      <td>0.5</td>\n",
              "      <td>1.0</td>\n",
              "    </tr>\n",
              "    <tr>\n",
              "      <th>2672154</th>\n",
              "      <td>0.51</td>\n",
              "      <td>0.1</td>\n",
              "      <td>0.1</td>\n",
              "      <td>0.1</td>\n",
              "    </tr>\n",
              "    <tr>\n",
              "      <th>1273355</th>\n",
              "      <td>0.25</td>\n",
              "      <td>0.3</td>\n",
              "      <td>0.4</td>\n",
              "      <td>0.2</td>\n",
              "    </tr>\n",
              "    <tr>\n",
              "      <th>2675661</th>\n",
              "      <td>0.17</td>\n",
              "      <td>1.0</td>\n",
              "      <td>1.0</td>\n",
              "      <td>1.0</td>\n",
              "    </tr>\n",
              "    <tr>\n",
              "      <th>2653857</th>\n",
              "      <td>0.21</td>\n",
              "      <td>0.7</td>\n",
              "      <td>0.7</td>\n",
              "      <td>0.5</td>\n",
              "    </tr>\n",
              "    <tr>\n",
              "      <th>3582687</th>\n",
              "      <td>0.51</td>\n",
              "      <td>1.0</td>\n",
              "      <td>0.1</td>\n",
              "      <td>0.6</td>\n",
              "    </tr>\n",
              "    <tr>\n",
              "      <th>3605199</th>\n",
              "      <td>0.64</td>\n",
              "      <td>0.5</td>\n",
              "      <td>0.5</td>\n",
              "      <td>0.5</td>\n",
              "    </tr>\n",
              "    <tr>\n",
              "      <th>3101441</th>\n",
              "      <td>0.31</td>\n",
              "      <td>0.7</td>\n",
              "      <td>0.1</td>\n",
              "      <td>0.7</td>\n",
              "    </tr>\n",
              "    <tr>\n",
              "      <th>3569772</th>\n",
              "      <td>0.85</td>\n",
              "      <td>0.8</td>\n",
              "      <td>0.9</td>\n",
              "      <td>0.8</td>\n",
              "    </tr>\n",
              "    <tr>\n",
              "      <th>3652497</th>\n",
              "      <td>0.33</td>\n",
              "      <td>0.2</td>\n",
              "      <td>0.5</td>\n",
              "      <td>0.4</td>\n",
              "    </tr>\n",
              "    <tr>\n",
              "      <th>3472466</th>\n",
              "      <td>0.36</td>\n",
              "      <td>0.5</td>\n",
              "      <td>0.5</td>\n",
              "      <td>0.5</td>\n",
              "    </tr>\n",
              "    <tr>\n",
              "      <th>3331383</th>\n",
              "      <td>0.22</td>\n",
              "      <td>0.7</td>\n",
              "      <td>0.5</td>\n",
              "      <td>0.5</td>\n",
              "    </tr>\n",
              "    <tr>\n",
              "      <th>2324382</th>\n",
              "      <td>0.24</td>\n",
              "      <td>0.1</td>\n",
              "      <td>0.1</td>\n",
              "      <td>0.1</td>\n",
              "    </tr>\n",
              "    <tr>\n",
              "      <th>3401909</th>\n",
              "      <td>0.30</td>\n",
              "      <td>0.3</td>\n",
              "      <td>0.5</td>\n",
              "      <td>0.4</td>\n",
              "    </tr>\n",
              "    <tr>\n",
              "      <th>3478317</th>\n",
              "      <td>0.28</td>\n",
              "      <td>0.6</td>\n",
              "      <td>0.3</td>\n",
              "      <td>0.7</td>\n",
              "    </tr>\n",
              "    <tr>\n",
              "      <th>3576493</th>\n",
              "      <td>0.19</td>\n",
              "      <td>0.2</td>\n",
              "      <td>0.9</td>\n",
              "      <td>0.2</td>\n",
              "    </tr>\n",
              "  </tbody>\n",
              "</table>\n",
              "</div>"
            ],
            "text/plain": [
              "          age  rq1  rq2  rq3\n",
              "2324597  0.19  0.7  0.9  0.4\n",
              "3448650  0.57  0.6  0.5  0.5\n",
              "2891954  0.19  0.2  0.2  0.3\n",
              "3575205  0.51  0.1  0.2  0.3\n",
              "2497004  0.17  0.6  0.6  0.7\n",
              "3412026  0.28  0.6  0.6  0.8\n",
              "3611646  0.19  1.0  1.0  1.0\n",
              "1896117  0.47  0.2  0.1  0.2\n",
              "3162217  0.24  0.5  0.5  0.7\n",
              "2599318  0.40  0.1  0.8  0.3\n",
              "2959729  0.43  0.8  0.8  0.5\n",
              "3685187  0.13  0.4  0.4  0.6\n",
              "3580927  0.27  0.1  0.2  0.5\n",
              "2424744  0.53  0.7  0.7  0.9\n",
              "2589399  0.23  0.1  0.1  0.5\n",
              "1993360  0.15  0.4  0.4  0.2\n",
              "2575472  0.18  0.7  1.0  0.9\n",
              "2669553  0.16  0.3  0.3  0.3\n",
              "3579261  0.28  0.4  0.2  0.7\n",
              "2624100  0.16  0.8  0.8  0.6\n",
              "3346190  0.23  0.1  0.3  0.2\n",
              "2595885  0.25  1.0  0.5  0.5\n",
              "3174580  0.45  0.6  0.4  0.7\n",
              "2325976  0.14  0.5  0.5  0.2\n",
              "3307058  0.28  0.3  0.3  0.3\n",
              "2596828  0.25  0.1  0.1  0.5\n",
              "2427089  0.44  0.5  0.5  0.5\n",
              "2926877  0.20  0.9  0.9  0.5\n",
              "3168079  0.19  0.4  0.1  0.2\n",
              "3479899  0.24  0.4  0.4  0.4\n",
              "3043749  0.19  0.2  0.4  0.7\n",
              "2822854  0.35  0.8  0.8  0.9\n",
              "3508810  0.33  0.6  0.3  1.0\n",
              "3080415  0.45  0.8  0.8  0.8\n",
              "2566297  0.21  0.5  0.5  1.0\n",
              "2672154  0.51  0.1  0.1  0.1\n",
              "1273355  0.25  0.3  0.4  0.2\n",
              "2675661  0.17  1.0  1.0  1.0\n",
              "2653857  0.21  0.7  0.7  0.5\n",
              "3582687  0.51  1.0  0.1  0.6\n",
              "3605199  0.64  0.5  0.5  0.5\n",
              "3101441  0.31  0.7  0.1  0.7\n",
              "3569772  0.85  0.8  0.9  0.8\n",
              "3652497  0.33  0.2  0.5  0.4\n",
              "3472466  0.36  0.5  0.5  0.5\n",
              "3331383  0.22  0.7  0.5  0.5\n",
              "2324382  0.24  0.1  0.1  0.1\n",
              "3401909  0.30  0.3  0.5  0.4\n",
              "3478317  0.28  0.6  0.3  0.7\n",
              "3576493  0.19  0.2  0.9  0.2"
            ]
          },
          "execution_count": 22,
          "metadata": {},
          "output_type": "execute_result"
        }
      ],
      "source": [
        "#X=df[['gender','people_type','age','province_id']]  #เลือกข้อมูล train\n",
        "X=df.drop('st_5', 1)\n",
        "X=X.drop('st_5_len', 1)\n",
        "# X=X.drop('people_type', 1)\n",
        "# X=X.drop('gender', 1)\n",
        "X[0:50]"
      ]
    },
    {
      "cell_type": "code",
      "execution_count": 23,
      "metadata": {
        "colab": {
          "base_uri": "https://localhost:8080/",
          "height": 363
        },
        "id": "UfAMD0ombe_7",
        "outputId": "a2b93ce1-3f49-4acb-d8fe-d21e930fc3d3"
      },
      "outputs": [
        {
          "data": {
            "text/html": [
              "<div>\n",
              "<style scoped>\n",
              "    .dataframe tbody tr th:only-of-type {\n",
              "        vertical-align: middle;\n",
              "    }\n",
              "\n",
              "    .dataframe tbody tr th {\n",
              "        vertical-align: top;\n",
              "    }\n",
              "\n",
              "    .dataframe thead th {\n",
              "        text-align: right;\n",
              "    }\n",
              "</style>\n",
              "<table border=\"1\" class=\"dataframe\">\n",
              "  <thead>\n",
              "    <tr style=\"text-align: right;\">\n",
              "      <th></th>\n",
              "      <th>st_5_len</th>\n",
              "    </tr>\n",
              "  </thead>\n",
              "  <tbody>\n",
              "    <tr>\n",
              "      <th>2324597</th>\n",
              "      <td>True</td>\n",
              "    </tr>\n",
              "    <tr>\n",
              "      <th>3448650</th>\n",
              "      <td>True</td>\n",
              "    </tr>\n",
              "    <tr>\n",
              "      <th>2891954</th>\n",
              "      <td>True</td>\n",
              "    </tr>\n",
              "    <tr>\n",
              "      <th>3575205</th>\n",
              "      <td>True</td>\n",
              "    </tr>\n",
              "    <tr>\n",
              "      <th>2497004</th>\n",
              "      <td>True</td>\n",
              "    </tr>\n",
              "    <tr>\n",
              "      <th>3412026</th>\n",
              "      <td>True</td>\n",
              "    </tr>\n",
              "    <tr>\n",
              "      <th>3611646</th>\n",
              "      <td>True</td>\n",
              "    </tr>\n",
              "    <tr>\n",
              "      <th>1896117</th>\n",
              "      <td>True</td>\n",
              "    </tr>\n",
              "    <tr>\n",
              "      <th>3162217</th>\n",
              "      <td>True</td>\n",
              "    </tr>\n",
              "    <tr>\n",
              "      <th>2599318</th>\n",
              "      <td>True</td>\n",
              "    </tr>\n",
              "  </tbody>\n",
              "</table>\n",
              "</div>"
            ],
            "text/plain": [
              "        st_5_len\n",
              "2324597     True\n",
              "3448650     True\n",
              "2891954     True\n",
              "3575205     True\n",
              "2497004     True\n",
              "3412026     True\n",
              "3611646     True\n",
              "1896117     True\n",
              "3162217     True\n",
              "2599318     True"
            ]
          },
          "execution_count": 23,
          "metadata": {},
          "output_type": "execute_result"
        }
      ],
      "source": [
        "df2[0:10]"
      ]
    },
    {
      "cell_type": "code",
      "execution_count": 24,
      "metadata": {
        "colab": {
          "base_uri": "https://localhost:8080/"
        },
        "id": "5xT725Tpbe_7",
        "outputId": "42e1cdce-9139-48c9-ce08-922f4d24f4fb"
      },
      "outputs": [
        {
          "name": "stdout",
          "output_type": "stream",
          "text": [
            "<class 'pandas.core.frame.DataFrame'>\n",
            "Int64Index: 72800 entries, 2324597 to 3647231\n",
            "Data columns (total 4 columns):\n",
            " #   Column  Non-Null Count  Dtype  \n",
            "---  ------  --------------  -----  \n",
            " 0   age     72800 non-null  float64\n",
            " 1   rq1     72800 non-null  float64\n",
            " 2   rq2     72800 non-null  float64\n",
            " 3   rq3     72800 non-null  float64\n",
            "dtypes: float64(4)\n",
            "memory usage: 2.8 MB\n"
          ]
        }
      ],
      "source": [
        "X.info()"
      ]
    },
    {
      "cell_type": "code",
      "execution_count": 25,
      "metadata": {
        "colab": {
          "base_uri": "https://localhost:8080/"
        },
        "id": "n80N5ETHbe_8",
        "outputId": "592daf27-de77-461b-81b8-a4ef17e9f759"
      },
      "outputs": [
        {
          "name": "stdout",
          "output_type": "stream",
          "text": [
            "[[0 1]\n",
            " [0 1]\n",
            " [0 1]\n",
            " [0 1]\n",
            " [0 1]\n",
            " [0 1]\n",
            " [0 1]\n",
            " [0 1]\n",
            " [0 1]\n",
            " [0 1]]\n"
          ]
        }
      ],
      "source": [
        "Y = pd.get_dummies(df2).values #แปลงค่า dummies\n",
        "print(Y[0:10])"
      ]
    },
    {
      "cell_type": "code",
      "execution_count": 26,
      "metadata": {
        "colab": {
          "base_uri": "https://localhost:8080/"
        },
        "id": "XV68Ut89be_8",
        "outputId": "0ec42edd-9fe9-4367-f7dd-6e62b2f703d1"
      },
      "outputs": [
        {
          "data": {
            "text/plain": [
              "array([[0.19, 0.7 , 0.9 , 0.4 ],\n",
              "       [0.57, 0.6 , 0.5 , 0.5 ],\n",
              "       [0.19, 0.2 , 0.2 , 0.3 ],\n",
              "       ...,\n",
              "       [0.59, 0.8 , 0.7 , 0.8 ],\n",
              "       [0.69, 0.9 , 1.  , 1.  ],\n",
              "       [0.62, 0.9 , 0.9 , 0.9 ]])"
            ]
          },
          "execution_count": 26,
          "metadata": {},
          "output_type": "execute_result"
        }
      ],
      "source": [
        "np.array(X)"
      ]
    },
    {
      "cell_type": "code",
      "execution_count": 27,
      "metadata": {
        "colab": {
          "base_uri": "https://localhost:8080/"
        },
        "id": "CPZMVZfKbe_8",
        "outputId": "1b11b31e-b4e9-47b9-9f0d-42c5bcf612ea"
      },
      "outputs": [
        {
          "data": {
            "text/plain": [
              "(72800, 2)"
            ]
          },
          "execution_count": 27,
          "metadata": {},
          "output_type": "execute_result"
        }
      ],
      "source": [
        "Y.shape"
      ]
    },
    {
      "cell_type": "code",
      "execution_count": 28,
      "metadata": {
        "id": "Rimk2nrwbe_8"
      },
      "outputs": [],
      "source": [
        "x_train,x_test,y_train,y_test=train_test_split(X,Y,test_size=0.2,random_state=0)"
      ]
    },
    {
      "cell_type": "code",
      "execution_count": 29,
      "metadata": {
        "colab": {
          "base_uri": "https://localhost:8080/"
        },
        "id": "OO6fBJ18be_8",
        "outputId": "62a9233b-e700-4996-e48f-dd93a12e3c5d"
      },
      "outputs": [
        {
          "data": {
            "text/plain": [
              "(58240, 4)"
            ]
          },
          "execution_count": 29,
          "metadata": {},
          "output_type": "execute_result"
        }
      ],
      "source": [
        "x_train.shape"
      ]
    },
    {
      "cell_type": "code",
      "execution_count": 30,
      "metadata": {
        "colab": {
          "base_uri": "https://localhost:8080/"
        },
        "id": "aCE2VuBsbe_9",
        "outputId": "a39775c5-3b6a-4dcf-857d-ae1064e4486a"
      },
      "outputs": [
        {
          "data": {
            "text/plain": [
              "(14560, 4)"
            ]
          },
          "execution_count": 30,
          "metadata": {},
          "output_type": "execute_result"
        }
      ],
      "source": [
        "x_test.shape"
      ]
    },
    {
      "cell_type": "code",
      "execution_count": 31,
      "metadata": {},
      "outputs": [
        {
          "data": {
            "text/html": [
              "<div>\n",
              "<style scoped>\n",
              "    .dataframe tbody tr th:only-of-type {\n",
              "        vertical-align: middle;\n",
              "    }\n",
              "\n",
              "    .dataframe tbody tr th {\n",
              "        vertical-align: top;\n",
              "    }\n",
              "\n",
              "    .dataframe thead th {\n",
              "        text-align: right;\n",
              "    }\n",
              "</style>\n",
              "<table border=\"1\" class=\"dataframe\">\n",
              "  <thead>\n",
              "    <tr style=\"text-align: right;\">\n",
              "      <th></th>\n",
              "      <th>age</th>\n",
              "      <th>rq1</th>\n",
              "      <th>rq2</th>\n",
              "      <th>rq3</th>\n",
              "    </tr>\n",
              "  </thead>\n",
              "  <tbody>\n",
              "    <tr>\n",
              "      <th>3653380</th>\n",
              "      <td>0.32</td>\n",
              "      <td>0.1</td>\n",
              "      <td>0.3</td>\n",
              "      <td>0.3</td>\n",
              "    </tr>\n",
              "    <tr>\n",
              "      <th>3056904</th>\n",
              "      <td>0.19</td>\n",
              "      <td>0.2</td>\n",
              "      <td>0.2</td>\n",
              "      <td>0.3</td>\n",
              "    </tr>\n",
              "    <tr>\n",
              "      <th>2518598</th>\n",
              "      <td>0.43</td>\n",
              "      <td>1.0</td>\n",
              "      <td>1.0</td>\n",
              "      <td>1.0</td>\n",
              "    </tr>\n",
              "    <tr>\n",
              "      <th>3116762</th>\n",
              "      <td>0.66</td>\n",
              "      <td>0.5</td>\n",
              "      <td>0.5</td>\n",
              "      <td>0.5</td>\n",
              "    </tr>\n",
              "    <tr>\n",
              "      <th>3273514</th>\n",
              "      <td>0.32</td>\n",
              "      <td>0.8</td>\n",
              "      <td>0.9</td>\n",
              "      <td>0.9</td>\n",
              "    </tr>\n",
              "  </tbody>\n",
              "</table>\n",
              "</div>"
            ],
            "text/plain": [
              "          age  rq1  rq2  rq3\n",
              "3653380  0.32  0.1  0.3  0.3\n",
              "3056904  0.19  0.2  0.2  0.3\n",
              "2518598  0.43  1.0  1.0  1.0\n",
              "3116762  0.66  0.5  0.5  0.5\n",
              "3273514  0.32  0.8  0.9  0.9"
            ]
          },
          "execution_count": 31,
          "metadata": {},
          "output_type": "execute_result"
        }
      ],
      "source": [
        "x_train.head()"
      ]
    },
    {
      "cell_type": "code",
      "execution_count": 34,
      "metadata": {},
      "outputs": [
        {
          "data": {
            "text/html": [
              "<div>\n",
              "<style scoped>\n",
              "    .dataframe tbody tr th:only-of-type {\n",
              "        vertical-align: middle;\n",
              "    }\n",
              "\n",
              "    .dataframe tbody tr th {\n",
              "        vertical-align: top;\n",
              "    }\n",
              "\n",
              "    .dataframe thead th {\n",
              "        text-align: right;\n",
              "    }\n",
              "</style>\n",
              "<table border=\"1\" class=\"dataframe\">\n",
              "  <thead>\n",
              "    <tr style=\"text-align: right;\">\n",
              "      <th></th>\n",
              "      <th>age</th>\n",
              "      <th>rq1</th>\n",
              "      <th>rq2</th>\n",
              "      <th>rq3</th>\n",
              "    </tr>\n",
              "  </thead>\n",
              "  <tbody>\n",
              "    <tr>\n",
              "      <th>2769879</th>\n",
              "      <td>0.55</td>\n",
              "      <td>0.6</td>\n",
              "      <td>0.6</td>\n",
              "      <td>0.7</td>\n",
              "    </tr>\n",
              "    <tr>\n",
              "      <th>2732443</th>\n",
              "      <td>0.60</td>\n",
              "      <td>0.8</td>\n",
              "      <td>0.8</td>\n",
              "      <td>0.8</td>\n",
              "    </tr>\n",
              "    <tr>\n",
              "      <th>2938367</th>\n",
              "      <td>0.35</td>\n",
              "      <td>0.7</td>\n",
              "      <td>0.7</td>\n",
              "      <td>0.7</td>\n",
              "    </tr>\n",
              "    <tr>\n",
              "      <th>3124273</th>\n",
              "      <td>0.53</td>\n",
              "      <td>0.8</td>\n",
              "      <td>0.9</td>\n",
              "      <td>0.8</td>\n",
              "    </tr>\n",
              "    <tr>\n",
              "      <th>2816785</th>\n",
              "      <td>0.25</td>\n",
              "      <td>0.1</td>\n",
              "      <td>0.8</td>\n",
              "      <td>0.5</td>\n",
              "    </tr>\n",
              "  </tbody>\n",
              "</table>\n",
              "</div>"
            ],
            "text/plain": [
              "          age  rq1  rq2  rq3\n",
              "2769879  0.55  0.6  0.6  0.7\n",
              "2732443  0.60  0.8  0.8  0.8\n",
              "2938367  0.35  0.7  0.7  0.7\n",
              "3124273  0.53  0.8  0.9  0.8\n",
              "2816785  0.25  0.1  0.8  0.5"
            ]
          },
          "execution_count": 34,
          "metadata": {},
          "output_type": "execute_result"
        }
      ],
      "source": [
        "x_test.head()"
      ]
    },
    {
      "cell_type": "code",
      "execution_count": 35,
      "metadata": {},
      "outputs": [
        {
          "data": {
            "text/plain": [
              "array([[0, 1],\n",
              "       [0, 1],\n",
              "       [1, 0],\n",
              "       ...,\n",
              "       [1, 0],\n",
              "       [1, 0],\n",
              "       [1, 0]], dtype=uint8)"
            ]
          },
          "execution_count": 35,
          "metadata": {},
          "output_type": "execute_result"
        }
      ],
      "source": [
        "y_train"
      ]
    },
    {
      "cell_type": "code",
      "execution_count": 36,
      "metadata": {},
      "outputs": [
        {
          "data": {
            "text/plain": [
              "array([[1, 0],\n",
              "       [1, 0],\n",
              "       [1, 0],\n",
              "       ...,\n",
              "       [1, 0],\n",
              "       [1, 0],\n",
              "       [0, 1]], dtype=uint8)"
            ]
          },
          "execution_count": 36,
          "metadata": {},
          "output_type": "execute_result"
        }
      ],
      "source": [
        "y_test"
      ]
    },
    {
      "cell_type": "code",
      "execution_count": 46,
      "metadata": {
        "id": "jafCmlgAbe_9"
      },
      "outputs": [],
      "source": [
        "x_test= np.array(x_test) #แปลงเป็น Array\n",
        "x_train= np.array(x_train) #แปลงเป็น Array"
      ]
    },
    {
      "cell_type": "code",
      "execution_count": 47,
      "metadata": {
        "id": "xYkq4Xp4be_9"
      },
      "outputs": [],
      "source": [
        "# 4-100-100-3\n",
        "inputs = keras.Input(shape=(4,))\n",
        "d1 = layers.Dense(100, activation='relu')\n",
        "d2 = layers.Dense(100, activation='relu')\n",
        "d3 = layers.Dense(100, activation='relu')\n",
        "d4 = layers.Dense(2)\n",
        "outputs = d4(d3(d2(d1(inputs))))\n",
        "model = keras.Model(inputs, outputs)\n",
        "model.compile(optimizer=keras.optimizers.SGD(learning_rate=0.01), loss=keras.losses.MeanSquaredError())\n"
      ]
    },
    {
      "cell_type": "code",
      "execution_count": 48,
      "metadata": {
        "colab": {
          "base_uri": "https://localhost:8080/"
        },
        "id": "WsnhAI4hbe_9",
        "outputId": "a4a7ce89-1c5a-4682-b278-db4d6b222b49"
      },
      "outputs": [
        {
          "name": "stdout",
          "output_type": "stream",
          "text": [
            "Epoch 1/300\n",
            "1820/1820 [==============================] - 7s 3ms/step - loss: 0.1544\n",
            "Epoch 2/300\n",
            "1820/1820 [==============================] - 6s 3ms/step - loss: 0.1268\n",
            "Epoch 3/300\n",
            "1820/1820 [==============================] - 6s 3ms/step - loss: 0.1247\n",
            "Epoch 4/300\n",
            "1820/1820 [==============================] - 6s 3ms/step - loss: 0.1230\n",
            "Epoch 5/300\n",
            "1820/1820 [==============================] - 6s 3ms/step - loss: 0.1217\n",
            "Epoch 6/300\n",
            "1820/1820 [==============================] - 6s 3ms/step - loss: 0.1206\n",
            "Epoch 7/300\n",
            "1820/1820 [==============================] - 6s 3ms/step - loss: 0.1198\n",
            "Epoch 8/300\n",
            "1820/1820 [==============================] - 6s 3ms/step - loss: 0.1189\n",
            "Epoch 9/300\n",
            "1820/1820 [==============================] - 6s 3ms/step - loss: 0.1185\n",
            "Epoch 10/300\n",
            "1820/1820 [==============================] - 6s 3ms/step - loss: 0.1180\n",
            "Epoch 11/300\n",
            "1820/1820 [==============================] - 6s 3ms/step - loss: 0.1175\n",
            "Epoch 12/300\n",
            "1820/1820 [==============================] - 6s 3ms/step - loss: 0.1172\n",
            "Epoch 13/300\n",
            "1820/1820 [==============================] - 6s 3ms/step - loss: 0.1169\n",
            "Epoch 14/300\n",
            "1820/1820 [==============================] - 6s 3ms/step - loss: 0.1167\n",
            "Epoch 15/300\n",
            "1820/1820 [==============================] - 6s 3ms/step - loss: 0.1165\n",
            "Epoch 16/300\n",
            "1820/1820 [==============================] - 6s 3ms/step - loss: 0.1163\n",
            "Epoch 17/300\n",
            "1820/1820 [==============================] - 6s 3ms/step - loss: 0.1161\n",
            "Epoch 18/300\n",
            "1820/1820 [==============================] - 6s 3ms/step - loss: 0.1159\n",
            "Epoch 19/300\n",
            "1820/1820 [==============================] - 6s 3ms/step - loss: 0.1158\n",
            "Epoch 20/300\n",
            "1820/1820 [==============================] - 6s 3ms/step - loss: 0.1155\n",
            "Epoch 21/300\n",
            "1820/1820 [==============================] - 6s 3ms/step - loss: 0.1155\n",
            "Epoch 22/300\n",
            "1820/1820 [==============================] - 6s 3ms/step - loss: 0.1153\n",
            "Epoch 23/300\n",
            "1820/1820 [==============================] - 6s 3ms/step - loss: 0.1153\n",
            "Epoch 24/300\n",
            "1820/1820 [==============================] - 6s 3ms/step - loss: 0.1151\n",
            "Epoch 25/300\n",
            "1820/1820 [==============================] - 6s 4ms/step - loss: 0.1151\n",
            "Epoch 26/300\n",
            "1820/1820 [==============================] - 6s 3ms/step - loss: 0.1149\n",
            "Epoch 27/300\n",
            "1820/1820 [==============================] - 6s 3ms/step - loss: 0.1148\n",
            "Epoch 28/300\n",
            "1820/1820 [==============================] - 6s 3ms/step - loss: 0.1148\n",
            "Epoch 29/300\n",
            "1820/1820 [==============================] - 6s 3ms/step - loss: 0.1147\n",
            "Epoch 30/300\n",
            "1820/1820 [==============================] - 6s 3ms/step - loss: 0.1147\n",
            "Epoch 31/300\n",
            "1820/1820 [==============================] - 6s 3ms/step - loss: 0.1146\n",
            "Epoch 32/300\n",
            "1820/1820 [==============================] - 6s 3ms/step - loss: 0.1146\n",
            "Epoch 33/300\n",
            "1820/1820 [==============================] - 6s 3ms/step - loss: 0.1145\n",
            "Epoch 34/300\n",
            "1820/1820 [==============================] - 6s 3ms/step - loss: 0.1145\n",
            "Epoch 35/300\n",
            "1820/1820 [==============================] - 6s 3ms/step - loss: 0.1143\n",
            "Epoch 36/300\n",
            "1820/1820 [==============================] - 6s 3ms/step - loss: 0.1144\n",
            "Epoch 37/300\n",
            "1820/1820 [==============================] - 6s 3ms/step - loss: 0.1143\n",
            "Epoch 38/300\n",
            "1820/1820 [==============================] - 6s 3ms/step - loss: 0.1142\n",
            "Epoch 39/300\n",
            "1820/1820 [==============================] - 6s 3ms/step - loss: 0.1142\n",
            "Epoch 40/300\n",
            "1820/1820 [==============================] - 6s 3ms/step - loss: 0.1142\n",
            "Epoch 41/300\n",
            "1820/1820 [==============================] - 6s 3ms/step - loss: 0.1141\n",
            "Epoch 42/300\n",
            "1820/1820 [==============================] - 6s 3ms/step - loss: 0.1140\n",
            "Epoch 43/300\n",
            "1820/1820 [==============================] - 6s 3ms/step - loss: 0.1141\n",
            "Epoch 44/300\n",
            "1820/1820 [==============================] - 6s 3ms/step - loss: 0.1140\n",
            "Epoch 45/300\n",
            "1820/1820 [==============================] - 6s 3ms/step - loss: 0.1140\n",
            "Epoch 46/300\n",
            "1820/1820 [==============================] - 6s 3ms/step - loss: 0.1140\n",
            "Epoch 47/300\n",
            "1820/1820 [==============================] - 6s 3ms/step - loss: 0.1139\n",
            "Epoch 48/300\n",
            "1820/1820 [==============================] - 6s 3ms/step - loss: 0.1140\n",
            "Epoch 49/300\n",
            "1820/1820 [==============================] - 6s 3ms/step - loss: 0.1138\n",
            "Epoch 50/300\n",
            "1820/1820 [==============================] - 6s 3ms/step - loss: 0.1138\n",
            "Epoch 51/300\n",
            "1820/1820 [==============================] - 6s 3ms/step - loss: 0.1138\n",
            "Epoch 52/300\n",
            "1820/1820 [==============================] - 6s 3ms/step - loss: 0.1137\n",
            "Epoch 53/300\n",
            "1820/1820 [==============================] - 5s 3ms/step - loss: 0.1138\n",
            "Epoch 54/300\n",
            "1820/1820 [==============================] - 6s 3ms/step - loss: 0.1137\n",
            "Epoch 55/300\n",
            "1820/1820 [==============================] - 6s 3ms/step - loss: 0.1137\n",
            "Epoch 56/300\n",
            "1820/1820 [==============================] - 6s 3ms/step - loss: 0.1137\n",
            "Epoch 57/300\n",
            "1820/1820 [==============================] - 5s 3ms/step - loss: 0.1136\n",
            "Epoch 58/300\n",
            "1820/1820 [==============================] - 6s 3ms/step - loss: 0.1136\n",
            "Epoch 59/300\n",
            "1820/1820 [==============================] - 6s 3ms/step - loss: 0.1136\n",
            "Epoch 60/300\n",
            "1820/1820 [==============================] - 6s 3ms/step - loss: 0.1136\n",
            "Epoch 61/300\n",
            "1820/1820 [==============================] - 5s 3ms/step - loss: 0.1135\n",
            "Epoch 62/300\n",
            "1820/1820 [==============================] - 6s 3ms/step - loss: 0.1136\n",
            "Epoch 63/300\n",
            "1820/1820 [==============================] - 6s 3ms/step - loss: 0.1134\n",
            "Epoch 64/300\n",
            "1820/1820 [==============================] - 6s 3ms/step - loss: 0.1135\n",
            "Epoch 65/300\n",
            "1820/1820 [==============================] - 6s 3ms/step - loss: 0.1135\n",
            "Epoch 66/300\n",
            "1820/1820 [==============================] - 6s 3ms/step - loss: 0.1135\n",
            "Epoch 67/300\n",
            "1820/1820 [==============================] - 6s 3ms/step - loss: 0.1135\n",
            "Epoch 68/300\n",
            "1820/1820 [==============================] - 6s 3ms/step - loss: 0.1135\n",
            "Epoch 69/300\n",
            "1820/1820 [==============================] - 6s 3ms/step - loss: 0.1134\n",
            "Epoch 70/300\n",
            "1820/1820 [==============================] - 6s 3ms/step - loss: 0.1134\n",
            "Epoch 71/300\n",
            "1820/1820 [==============================] - 6s 3ms/step - loss: 0.1134\n",
            "Epoch 72/300\n",
            "1820/1820 [==============================] - 6s 3ms/step - loss: 0.1134\n",
            "Epoch 73/300\n",
            "1820/1820 [==============================] - 7s 4ms/step - loss: 0.1134\n",
            "Epoch 74/300\n",
            "1820/1820 [==============================] - 8s 4ms/step - loss: 0.1134\n",
            "Epoch 75/300\n",
            "1820/1820 [==============================] - 6s 3ms/step - loss: 0.1134\n",
            "Epoch 76/300\n",
            "1820/1820 [==============================] - 6s 3ms/step - loss: 0.1132\n",
            "Epoch 77/300\n",
            "1820/1820 [==============================] - 6s 3ms/step - loss: 0.1133\n",
            "Epoch 78/300\n",
            "1820/1820 [==============================] - 10s 6ms/step - loss: 0.1133\n",
            "Epoch 79/300\n",
            "1820/1820 [==============================] - 6s 4ms/step - loss: 0.1133\n",
            "Epoch 80/300\n",
            "1820/1820 [==============================] - 6s 3ms/step - loss: 0.1132\n",
            "Epoch 81/300\n",
            "1820/1820 [==============================] - 6s 3ms/step - loss: 0.1131\n",
            "Epoch 82/300\n",
            "1820/1820 [==============================] - 6s 3ms/step - loss: 0.1133\n",
            "Epoch 83/300\n",
            "1820/1820 [==============================] - 7s 4ms/step - loss: 0.1132\n",
            "Epoch 84/300\n",
            "1820/1820 [==============================] - 6s 3ms/step - loss: 0.1132\n",
            "Epoch 85/300\n",
            "1820/1820 [==============================] - 6s 3ms/step - loss: 0.1132\n",
            "Epoch 86/300\n",
            "1820/1820 [==============================] - 6s 3ms/step - loss: 0.1132\n",
            "Epoch 87/300\n",
            "1820/1820 [==============================] - 6s 3ms/step - loss: 0.1132\n",
            "Epoch 88/300\n",
            "1820/1820 [==============================] - 6s 3ms/step - loss: 0.1131\n",
            "Epoch 89/300\n",
            "1820/1820 [==============================] - 5s 3ms/step - loss: 0.1131\n",
            "Epoch 90/300\n",
            "1820/1820 [==============================] - 6s 3ms/step - loss: 0.1131\n",
            "Epoch 91/300\n",
            "1820/1820 [==============================] - 8s 4ms/step - loss: 0.1131\n",
            "Epoch 92/300\n",
            "1820/1820 [==============================] - 6s 3ms/step - loss: 0.1131\n",
            "Epoch 93/300\n",
            "1820/1820 [==============================] - 6s 3ms/step - loss: 0.1131\n",
            "Epoch 94/300\n",
            "1820/1820 [==============================] - 6s 3ms/step - loss: 0.1130\n",
            "Epoch 95/300\n",
            "1820/1820 [==============================] - 6s 3ms/step - loss: 0.1131\n",
            "Epoch 96/300\n",
            "1820/1820 [==============================] - 6s 3ms/step - loss: 0.1130\n",
            "Epoch 97/300\n",
            "1820/1820 [==============================] - 6s 3ms/step - loss: 0.1131\n",
            "Epoch 98/300\n",
            "1820/1820 [==============================] - 7s 4ms/step - loss: 0.1131\n",
            "Epoch 99/300\n",
            "1820/1820 [==============================] - 6s 3ms/step - loss: 0.1131\n",
            "Epoch 100/300\n",
            "1820/1820 [==============================] - 6s 3ms/step - loss: 0.1130\n",
            "Epoch 101/300\n",
            "1820/1820 [==============================] - 7s 4ms/step - loss: 0.1130\n",
            "Epoch 102/300\n",
            "1820/1820 [==============================] - 6s 3ms/step - loss: 0.1131\n",
            "Epoch 103/300\n",
            "1820/1820 [==============================] - 7s 4ms/step - loss: 0.1131\n",
            "Epoch 104/300\n",
            "1820/1820 [==============================] - 11s 6ms/step - loss: 0.1130\n",
            "Epoch 105/300\n",
            "1820/1820 [==============================] - 12s 7ms/step - loss: 0.1129\n",
            "Epoch 106/300\n",
            "1820/1820 [==============================] - 13s 7ms/step - loss: 0.1130\n",
            "Epoch 107/300\n",
            "1820/1820 [==============================] - 14s 8ms/step - loss: 0.1130\n",
            "Epoch 108/300\n",
            "1820/1820 [==============================] - 14s 8ms/step - loss: 0.1129\n",
            "Epoch 109/300\n",
            "1820/1820 [==============================] - 13s 7ms/step - loss: 0.1130\n",
            "Epoch 110/300\n",
            "1820/1820 [==============================] - 7s 4ms/step - loss: 0.1129\n",
            "Epoch 111/300\n",
            "1820/1820 [==============================] - 6s 3ms/step - loss: 0.1129\n",
            "Epoch 112/300\n",
            "1820/1820 [==============================] - 7s 4ms/step - loss: 0.1129\n",
            "Epoch 113/300\n",
            "1820/1820 [==============================] - 9s 5ms/step - loss: 0.1129\n",
            "Epoch 114/300\n",
            "1820/1820 [==============================] - 8s 4ms/step - loss: 0.1130\n",
            "Epoch 115/300\n",
            "1820/1820 [==============================] - 6s 3ms/step - loss: 0.1129\n",
            "Epoch 116/300\n",
            "1820/1820 [==============================] - 6s 3ms/step - loss: 0.1127\n",
            "Epoch 117/300\n",
            "1820/1820 [==============================] - 6s 3ms/step - loss: 0.1129\n",
            "Epoch 118/300\n",
            "1820/1820 [==============================] - 6s 3ms/step - loss: 0.1128\n",
            "Epoch 119/300\n",
            "1820/1820 [==============================] - 6s 3ms/step - loss: 0.1128\n",
            "Epoch 120/300\n",
            "1820/1820 [==============================] - 6s 3ms/step - loss: 0.1128\n",
            "Epoch 121/300\n",
            "1820/1820 [==============================] - 7s 4ms/step - loss: 0.1129\n",
            "Epoch 122/300\n",
            "1820/1820 [==============================] - 12s 7ms/step - loss: 0.1128\n",
            "Epoch 123/300\n",
            "1820/1820 [==============================] - 14s 8ms/step - loss: 0.1128\n",
            "Epoch 124/300\n",
            "1820/1820 [==============================] - 15s 8ms/step - loss: 0.1128\n",
            "Epoch 125/300\n",
            "1820/1820 [==============================] - 14s 7ms/step - loss: 0.1129\n",
            "Epoch 126/300\n",
            "1820/1820 [==============================] - 15s 8ms/step - loss: 0.1128\n",
            "Epoch 127/300\n",
            "1820/1820 [==============================] - 15s 8ms/step - loss: 0.1128\n",
            "Epoch 128/300\n",
            "1820/1820 [==============================] - 14s 8ms/step - loss: 0.1128\n",
            "Epoch 129/300\n",
            "1820/1820 [==============================] - 15s 8ms/step - loss: 0.1127\n",
            "Epoch 130/300\n",
            "1820/1820 [==============================] - 15s 8ms/step - loss: 0.1127\n",
            "Epoch 131/300\n",
            "1820/1820 [==============================] - 14s 8ms/step - loss: 0.1128\n",
            "Epoch 132/300\n",
            "1820/1820 [==============================] - 14s 8ms/step - loss: 0.1128\n",
            "Epoch 133/300\n",
            "1820/1820 [==============================] - 15s 8ms/step - loss: 0.1127\n",
            "Epoch 134/300\n",
            "1820/1820 [==============================] - 15s 8ms/step - loss: 0.1128\n",
            "Epoch 135/300\n",
            "1820/1820 [==============================] - 15s 8ms/step - loss: 0.1128\n",
            "Epoch 136/300\n",
            "1820/1820 [==============================] - 14s 8ms/step - loss: 0.1128\n",
            "Epoch 137/300\n",
            "1820/1820 [==============================] - 15s 8ms/step - loss: 0.1128\n",
            "Epoch 138/300\n",
            "1820/1820 [==============================] - 14s 8ms/step - loss: 0.1127\n",
            "Epoch 139/300\n",
            "1820/1820 [==============================] - 14s 8ms/step - loss: 0.1127\n",
            "Epoch 140/300\n",
            "1820/1820 [==============================] - 15s 8ms/step - loss: 0.1126\n",
            "Epoch 141/300\n",
            "1820/1820 [==============================] - 15s 8ms/step - loss: 0.1127\n",
            "Epoch 142/300\n",
            "1820/1820 [==============================] - 14s 8ms/step - loss: 0.1128\n",
            "Epoch 143/300\n",
            "1820/1820 [==============================] - 15s 8ms/step - loss: 0.1127\n",
            "Epoch 144/300\n",
            "1820/1820 [==============================] - 16s 9ms/step - loss: 0.1126\n",
            "Epoch 145/300\n",
            "1820/1820 [==============================] - 16s 9ms/step - loss: 0.1126\n",
            "Epoch 146/300\n",
            "1820/1820 [==============================] - 15s 8ms/step - loss: 0.1127\n",
            "Epoch 147/300\n",
            "1820/1820 [==============================] - 16s 9ms/step - loss: 0.1127\n",
            "Epoch 148/300\n",
            "1820/1820 [==============================] - 16s 9ms/step - loss: 0.1126\n",
            "Epoch 149/300\n",
            "1820/1820 [==============================] - 15s 8ms/step - loss: 0.1127\n",
            "Epoch 150/300\n",
            "1820/1820 [==============================] - 14s 8ms/step - loss: 0.1126\n",
            "Epoch 151/300\n",
            "1820/1820 [==============================] - 14s 8ms/step - loss: 0.1126\n",
            "Epoch 152/300\n",
            "1820/1820 [==============================] - 14s 8ms/step - loss: 0.1127\n",
            "Epoch 153/300\n",
            "1820/1820 [==============================] - 14s 8ms/step - loss: 0.1126\n",
            "Epoch 154/300\n",
            "1820/1820 [==============================] - 14s 8ms/step - loss: 0.1126\n",
            "Epoch 155/300\n",
            "1820/1820 [==============================] - 15s 8ms/step - loss: 0.1126\n",
            "Epoch 156/300\n",
            "1820/1820 [==============================] - 15s 8ms/step - loss: 0.1125\n",
            "Epoch 157/300\n",
            "1820/1820 [==============================] - 15s 8ms/step - loss: 0.1125\n",
            "Epoch 158/300\n",
            "1820/1820 [==============================] - 15s 8ms/step - loss: 0.1126\n",
            "Epoch 159/300\n",
            "1820/1820 [==============================] - 16s 9ms/step - loss: 0.1126\n",
            "Epoch 160/300\n",
            "1820/1820 [==============================] - 15s 8ms/step - loss: 0.1125\n",
            "Epoch 161/300\n",
            "1820/1820 [==============================] - 15s 8ms/step - loss: 0.1126\n",
            "Epoch 162/300\n",
            "1820/1820 [==============================] - 16s 9ms/step - loss: 0.1125\n",
            "Epoch 163/300\n",
            "1820/1820 [==============================] - 15s 8ms/step - loss: 0.1125\n",
            "Epoch 164/300\n",
            "1820/1820 [==============================] - 16s 9ms/step - loss: 0.1126\n",
            "Epoch 165/300\n",
            "1820/1820 [==============================] - 15s 8ms/step - loss: 0.1125\n",
            "Epoch 166/300\n",
            "1820/1820 [==============================] - 16s 9ms/step - loss: 0.1125\n",
            "Epoch 167/300\n",
            "1820/1820 [==============================] - 16s 9ms/step - loss: 0.1125\n",
            "Epoch 168/300\n",
            "1820/1820 [==============================] - 17s 9ms/step - loss: 0.1126\n",
            "Epoch 169/300\n",
            "1820/1820 [==============================] - 16s 9ms/step - loss: 0.1125\n",
            "Epoch 170/300\n",
            "1820/1820 [==============================] - 16s 9ms/step - loss: 0.1125\n",
            "Epoch 171/300\n",
            "1820/1820 [==============================] - 17s 9ms/step - loss: 0.1124\n",
            "Epoch 172/300\n",
            "1820/1820 [==============================] - 17s 9ms/step - loss: 0.1125\n",
            "Epoch 173/300\n",
            "1820/1820 [==============================] - 17s 9ms/step - loss: 0.1125\n",
            "Epoch 174/300\n",
            "1820/1820 [==============================] - 11s 6ms/step - loss: 0.1124\n",
            "Epoch 175/300\n",
            "1820/1820 [==============================] - 6s 3ms/step - loss: 0.1125\n",
            "Epoch 176/300\n",
            "1820/1820 [==============================] - 6s 3ms/step - loss: 0.1124\n",
            "Epoch 177/300\n",
            "1820/1820 [==============================] - 6s 3ms/step - loss: 0.1125\n",
            "Epoch 178/300\n",
            "1820/1820 [==============================] - 7s 4ms/step - loss: 0.1125\n",
            "Epoch 179/300\n",
            "1820/1820 [==============================] - 6s 3ms/step - loss: 0.1124\n",
            "Epoch 180/300\n",
            "1820/1820 [==============================] - 5s 3ms/step - loss: 0.1124\n",
            "Epoch 181/300\n",
            "1820/1820 [==============================] - 6s 3ms/step - loss: 0.1124\n",
            "Epoch 182/300\n",
            "1820/1820 [==============================] - 5s 3ms/step - loss: 0.1124\n",
            "Epoch 183/300\n",
            "1820/1820 [==============================] - 5s 3ms/step - loss: 0.1124\n",
            "Epoch 184/300\n",
            "1820/1820 [==============================] - 5s 3ms/step - loss: 0.1124\n",
            "Epoch 185/300\n",
            "1820/1820 [==============================] - 5s 3ms/step - loss: 0.1124\n",
            "Epoch 186/300\n",
            "1820/1820 [==============================] - 6s 3ms/step - loss: 0.1124\n",
            "Epoch 187/300\n",
            "1820/1820 [==============================] - 7s 4ms/step - loss: 0.1124\n",
            "Epoch 188/300\n",
            "1820/1820 [==============================] - 7s 4ms/step - loss: 0.1124\n",
            "Epoch 189/300\n",
            "1820/1820 [==============================] - 7s 4ms/step - loss: 0.1123\n",
            "Epoch 190/300\n",
            "1820/1820 [==============================] - 7s 4ms/step - loss: 0.1124\n",
            "Epoch 191/300\n",
            "1820/1820 [==============================] - 6s 3ms/step - loss: 0.1123\n",
            "Epoch 192/300\n",
            "1820/1820 [==============================] - 6s 3ms/step - loss: 0.1123\n",
            "Epoch 193/300\n",
            "1820/1820 [==============================] - 6s 3ms/step - loss: 0.1124\n",
            "Epoch 194/300\n",
            "1820/1820 [==============================] - 6s 3ms/step - loss: 0.1123\n",
            "Epoch 195/300\n",
            "1820/1820 [==============================] - 6s 3ms/step - loss: 0.1124\n",
            "Epoch 196/300\n",
            "1820/1820 [==============================] - 6s 3ms/step - loss: 0.1124\n",
            "Epoch 197/300\n",
            "1820/1820 [==============================] - 6s 3ms/step - loss: 0.1123\n",
            "Epoch 198/300\n",
            "1820/1820 [==============================] - 6s 3ms/step - loss: 0.1123\n",
            "Epoch 199/300\n",
            "1820/1820 [==============================] - 6s 3ms/step - loss: 0.1123\n",
            "Epoch 200/300\n",
            "1820/1820 [==============================] - 6s 3ms/step - loss: 0.1123\n",
            "Epoch 201/300\n",
            "1820/1820 [==============================] - 6s 3ms/step - loss: 0.1123\n",
            "Epoch 202/300\n",
            "1820/1820 [==============================] - 6s 3ms/step - loss: 0.1122\n",
            "Epoch 203/300\n",
            "1820/1820 [==============================] - 6s 3ms/step - loss: 0.1123\n",
            "Epoch 204/300\n",
            "1820/1820 [==============================] - 6s 3ms/step - loss: 0.1122\n",
            "Epoch 205/300\n",
            "1820/1820 [==============================] - 6s 3ms/step - loss: 0.1123\n",
            "Epoch 206/300\n",
            "1820/1820 [==============================] - 6s 3ms/step - loss: 0.1123\n",
            "Epoch 207/300\n",
            "1820/1820 [==============================] - 6s 3ms/step - loss: 0.1122\n",
            "Epoch 208/300\n",
            "1820/1820 [==============================] - 6s 3ms/step - loss: 0.1123\n",
            "Epoch 209/300\n",
            "1820/1820 [==============================] - 6s 4ms/step - loss: 0.1122\n",
            "Epoch 210/300\n",
            "1820/1820 [==============================] - 6s 3ms/step - loss: 0.1123\n",
            "Epoch 211/300\n",
            "1820/1820 [==============================] - 5s 3ms/step - loss: 0.1122\n",
            "Epoch 212/300\n",
            "1820/1820 [==============================] - 5s 3ms/step - loss: 0.1122\n",
            "Epoch 213/300\n",
            "1820/1820 [==============================] - 5s 3ms/step - loss: 0.1122\n",
            "Epoch 214/300\n",
            "1820/1820 [==============================] - 5s 3ms/step - loss: 0.1122\n",
            "Epoch 215/300\n",
            "1820/1820 [==============================] - 5s 3ms/step - loss: 0.1122\n",
            "Epoch 216/300\n",
            "1820/1820 [==============================] - 6s 3ms/step - loss: 0.1122\n",
            "Epoch 217/300\n",
            "1820/1820 [==============================] - 5s 3ms/step - loss: 0.1122\n",
            "Epoch 218/300\n",
            "1820/1820 [==============================] - 5s 3ms/step - loss: 0.1123\n",
            "Epoch 219/300\n",
            "1820/1820 [==============================] - 5s 3ms/step - loss: 0.1122\n",
            "Epoch 220/300\n",
            "1820/1820 [==============================] - 5s 3ms/step - loss: 0.1122\n",
            "Epoch 221/300\n",
            "1820/1820 [==============================] - 5s 3ms/step - loss: 0.1122\n",
            "Epoch 222/300\n",
            "1820/1820 [==============================] - 5s 3ms/step - loss: 0.1122\n",
            "Epoch 223/300\n",
            "1820/1820 [==============================] - 5s 3ms/step - loss: 0.1122\n",
            "Epoch 224/300\n",
            "1820/1820 [==============================] - 5s 3ms/step - loss: 0.1123\n",
            "Epoch 225/300\n",
            "1820/1820 [==============================] - 6s 3ms/step - loss: 0.1122\n",
            "Epoch 226/300\n",
            "1820/1820 [==============================] - 6s 3ms/step - loss: 0.1122\n",
            "Epoch 227/300\n",
            "1820/1820 [==============================] - 6s 3ms/step - loss: 0.1121\n",
            "Epoch 228/300\n",
            "1820/1820 [==============================] - 6s 3ms/step - loss: 0.1121\n",
            "Epoch 229/300\n",
            "1820/1820 [==============================] - 7s 4ms/step - loss: 0.1122\n",
            "Epoch 230/300\n",
            "1820/1820 [==============================] - 6s 3ms/step - loss: 0.1122\n",
            "Epoch 231/300\n",
            "1820/1820 [==============================] - 5s 3ms/step - loss: 0.1122\n",
            "Epoch 232/300\n",
            "1820/1820 [==============================] - 5s 3ms/step - loss: 0.1122\n",
            "Epoch 233/300\n",
            "1820/1820 [==============================] - 6s 3ms/step - loss: 0.1121\n",
            "Epoch 234/300\n",
            "1820/1820 [==============================] - 6s 3ms/step - loss: 0.1121\n",
            "Epoch 235/300\n",
            "1820/1820 [==============================] - 6s 3ms/step - loss: 0.1121\n",
            "Epoch 236/300\n",
            "1820/1820 [==============================] - 5s 3ms/step - loss: 0.1121\n",
            "Epoch 237/300\n",
            "1820/1820 [==============================] - 6s 3ms/step - loss: 0.1121\n",
            "Epoch 238/300\n",
            "1820/1820 [==============================] - 6s 3ms/step - loss: 0.1120\n",
            "Epoch 239/300\n",
            "1820/1820 [==============================] - 6s 3ms/step - loss: 0.1121\n",
            "Epoch 240/300\n",
            "1820/1820 [==============================] - 6s 3ms/step - loss: 0.1121\n",
            "Epoch 241/300\n",
            "1820/1820 [==============================] - 6s 3ms/step - loss: 0.1122\n",
            "Epoch 242/300\n",
            "1820/1820 [==============================] - 6s 3ms/step - loss: 0.1121\n",
            "Epoch 243/300\n",
            "1820/1820 [==============================] - 5s 3ms/step - loss: 0.1120\n",
            "Epoch 244/300\n",
            "1820/1820 [==============================] - 5s 3ms/step - loss: 0.1121\n",
            "Epoch 245/300\n",
            "1820/1820 [==============================] - 6s 3ms/step - loss: 0.1120\n",
            "Epoch 246/300\n",
            "1820/1820 [==============================] - 6s 3ms/step - loss: 0.1120\n",
            "Epoch 247/300\n",
            "1820/1820 [==============================] - 6s 3ms/step - loss: 0.1121\n",
            "Epoch 248/300\n",
            "1820/1820 [==============================] - 6s 3ms/step - loss: 0.1121\n",
            "Epoch 249/300\n",
            "1820/1820 [==============================] - 5s 3ms/step - loss: 0.1120\n",
            "Epoch 250/300\n",
            "1820/1820 [==============================] - 5s 3ms/step - loss: 0.1121\n",
            "Epoch 251/300\n",
            "1820/1820 [==============================] - 6s 3ms/step - loss: 0.1121\n",
            "Epoch 252/300\n",
            "1820/1820 [==============================] - 6s 3ms/step - loss: 0.1121\n",
            "Epoch 253/300\n",
            "1820/1820 [==============================] - 5s 3ms/step - loss: 0.1120\n",
            "Epoch 254/300\n",
            "1820/1820 [==============================] - 6s 3ms/step - loss: 0.1120\n",
            "Epoch 255/300\n",
            "1820/1820 [==============================] - 6s 3ms/step - loss: 0.1120\n",
            "Epoch 256/300\n",
            "1820/1820 [==============================] - 7s 4ms/step - loss: 0.1119\n",
            "Epoch 257/300\n",
            "1820/1820 [==============================] - 7s 4ms/step - loss: 0.1120\n",
            "Epoch 258/300\n",
            "1820/1820 [==============================] - 6s 3ms/step - loss: 0.1119\n",
            "Epoch 259/300\n",
            "1820/1820 [==============================] - 6s 3ms/step - loss: 0.1120\n",
            "Epoch 260/300\n",
            "1820/1820 [==============================] - 6s 3ms/step - loss: 0.1119\n",
            "Epoch 261/300\n",
            "1820/1820 [==============================] - 6s 3ms/step - loss: 0.1120\n",
            "Epoch 262/300\n",
            "1820/1820 [==============================] - 6s 3ms/step - loss: 0.1120\n",
            "Epoch 263/300\n",
            "1820/1820 [==============================] - 6s 3ms/step - loss: 0.1120\n",
            "Epoch 264/300\n",
            "1820/1820 [==============================] - 6s 4ms/step - loss: 0.1119\n",
            "Epoch 265/300\n",
            "1820/1820 [==============================] - 5s 3ms/step - loss: 0.1119\n",
            "Epoch 266/300\n",
            "1820/1820 [==============================] - 5s 3ms/step - loss: 0.1120\n",
            "Epoch 267/300\n",
            "1820/1820 [==============================] - 6s 3ms/step - loss: 0.1120\n",
            "Epoch 268/300\n",
            "1820/1820 [==============================] - 6s 3ms/step - loss: 0.1119\n",
            "Epoch 269/300\n",
            "1820/1820 [==============================] - 6s 3ms/step - loss: 0.1120\n",
            "Epoch 270/300\n",
            "1820/1820 [==============================] - 6s 3ms/step - loss: 0.1120\n",
            "Epoch 271/300\n",
            "1820/1820 [==============================] - 6s 3ms/step - loss: 0.1119\n",
            "Epoch 272/300\n",
            "1820/1820 [==============================] - 6s 3ms/step - loss: 0.1119\n",
            "Epoch 273/300\n",
            "1820/1820 [==============================] - 6s 3ms/step - loss: 0.1118\n",
            "Epoch 274/300\n",
            "1820/1820 [==============================] - 6s 3ms/step - loss: 0.1119\n",
            "Epoch 275/300\n",
            "1820/1820 [==============================] - 6s 3ms/step - loss: 0.1118\n",
            "Epoch 276/300\n",
            "1820/1820 [==============================] - 5s 3ms/step - loss: 0.1119\n",
            "Epoch 277/300\n",
            "1820/1820 [==============================] - 6s 3ms/step - loss: 0.1118\n",
            "Epoch 278/300\n",
            "1820/1820 [==============================] - 6s 3ms/step - loss: 0.1119\n",
            "Epoch 279/300\n",
            "1820/1820 [==============================] - 6s 3ms/step - loss: 0.1118\n",
            "Epoch 280/300\n",
            "1820/1820 [==============================] - 6s 3ms/step - loss: 0.1118\n",
            "Epoch 281/300\n",
            "1820/1820 [==============================] - 6s 3ms/step - loss: 0.1118\n",
            "Epoch 282/300\n",
            "1820/1820 [==============================] - 7s 4ms/step - loss: 0.1119\n",
            "Epoch 283/300\n",
            "1820/1820 [==============================] - 6s 3ms/step - loss: 0.1118\n",
            "Epoch 284/300\n",
            "1820/1820 [==============================] - 6s 3ms/step - loss: 0.1118\n",
            "Epoch 285/300\n",
            "1820/1820 [==============================] - 5s 3ms/step - loss: 0.1118\n",
            "Epoch 286/300\n",
            "1820/1820 [==============================] - 5s 3ms/step - loss: 0.1118\n",
            "Epoch 287/300\n",
            "1820/1820 [==============================] - 5s 3ms/step - loss: 0.1118\n",
            "Epoch 288/300\n",
            "1820/1820 [==============================] - 13s 7ms/step - loss: 0.1117\n",
            "Epoch 289/300\n",
            "1820/1820 [==============================] - 6s 3ms/step - loss: 0.1118\n",
            "Epoch 290/300\n",
            "1820/1820 [==============================] - 7s 4ms/step - loss: 0.1117\n",
            "Epoch 291/300\n",
            "1820/1820 [==============================] - 6s 3ms/step - loss: 0.1117\n",
            "Epoch 292/300\n",
            "1820/1820 [==============================] - 7s 4ms/step - loss: 0.1118\n",
            "Epoch 293/300\n",
            "1820/1820 [==============================] - 6s 3ms/step - loss: 0.1118\n",
            "Epoch 294/300\n",
            "1820/1820 [==============================] - 6s 3ms/step - loss: 0.1117\n",
            "Epoch 295/300\n",
            "1820/1820 [==============================] - 6s 3ms/step - loss: 0.1116\n",
            "Epoch 296/300\n",
            "1820/1820 [==============================] - 6s 3ms/step - loss: 0.1117\n",
            "Epoch 297/300\n",
            "1820/1820 [==============================] - 6s 3ms/step - loss: 0.1117\n",
            "Epoch 298/300\n",
            "1820/1820 [==============================] - 6s 3ms/step - loss: 0.1117\n",
            "Epoch 299/300\n",
            "1820/1820 [==============================] - 6s 3ms/step - loss: 0.1117\n",
            "Epoch 300/300\n",
            "1820/1820 [==============================] - 6s 3ms/step - loss: 0.1117\n"
          ]
        },
        {
          "data": {
            "text/plain": [
              "<keras.callbacks.History at 0x33c142a00>"
            ]
          },
          "execution_count": 48,
          "metadata": {},
          "output_type": "execute_result"
        }
      ],
      "source": [
        "model.fit(x_train, y_train, epochs=300)\n"
      ]
    },
    {
      "cell_type": "code",
      "execution_count": 49,
      "metadata": {
        "colab": {
          "base_uri": "https://localhost:8080/"
        },
        "id": "JhnlX8WOeM40",
        "outputId": "7b6a932b-5ad1-4a48-806d-d6437943865d"
      },
      "outputs": [
        {
          "name": "stdout",
          "output_type": "stream",
          "text": [
            "INFO:tensorflow:Assets written to: my_model/assets\n"
          ]
        }
      ],
      "source": [
        "\n",
        "model.save('my_model')"
      ]
    },
    {
      "cell_type": "code",
      "execution_count": 50,
      "metadata": {
        "colab": {
          "base_uri": "https://localhost:8080/"
        },
        "id": "kMuSvvrkbe_9",
        "outputId": "3a5d7313-6130-4ec2-fa26-a044b433cd90"
      },
      "outputs": [
        {
          "name": "stdout",
          "output_type": "stream",
          "text": [
            "455/455 [==============================] - 1s 2ms/step\n"
          ]
        },
        {
          "data": {
            "text/plain": [
              "<tf.Tensor: shape=(14560,), dtype=int64, numpy=array([1, 0, 0, ..., 0, 0, 1])>"
            ]
          },
          "execution_count": 50,
          "metadata": {},
          "output_type": "execute_result"
        }
      ],
      "source": [
        "Z = model.predict(x_test)\n",
        "tf.argmax(Z,axis=1)"
      ]
    },
    {
      "cell_type": "code",
      "execution_count": 51,
      "metadata": {
        "colab": {
          "base_uri": "https://localhost:8080/"
        },
        "id": "Vsd4NItMbe_9",
        "outputId": "ec30cc1e-4417-47ed-e414-95a63c35f9d7"
      },
      "outputs": [
        {
          "name": "stdout",
          "output_type": "stream",
          "text": [
            "455/455 [==============================] - 1s 2ms/step\n"
          ]
        },
        {
          "data": {
            "text/plain": [
              "<tf.Tensor: shape=(14560,), dtype=int64, numpy=array([1, 0, 0, ..., 0, 0, 1])>"
            ]
          },
          "execution_count": 51,
          "metadata": {},
          "output_type": "execute_result"
        }
      ],
      "source": [
        "_model = keras.models.load_model(\"my_model\")\n",
        "Z = _model.predict(x_test)\n",
        "tf.argmax(Z,axis=1)"
      ]
    },
    {
      "cell_type": "code",
      "execution_count": 52,
      "metadata": {
        "colab": {
          "base_uri": "https://localhost:8080/"
        },
        "id": "jfA-14aWbe_-",
        "outputId": "826f4af3-366e-440e-a322-8aacdd3969cd"
      },
      "outputs": [
        {
          "data": {
            "text/plain": [
              "<tf.Tensor: shape=(14560,), dtype=int64, numpy=array([0, 0, 0, ..., 0, 0, 1])>"
            ]
          },
          "execution_count": 52,
          "metadata": {},
          "output_type": "execute_result"
        }
      ],
      "source": [
        "tf.argmax(y_test, axis=1)"
      ]
    },
    {
      "cell_type": "code",
      "execution_count": 53,
      "metadata": {
        "colab": {
          "base_uri": "https://localhost:8080/"
        },
        "id": "aal3Fb_Gbe_-",
        "outputId": "99228014-796d-4a81-ca05-8bb0ef062c57"
      },
      "outputs": [
        {
          "data": {
            "text/plain": [
              "0.8473214285714286"
            ]
          },
          "execution_count": 53,
          "metadata": {},
          "output_type": "execute_result"
        }
      ],
      "source": [
        "np.sum(tf.argmax(Z, axis=1) == tf.argmax(y_test, axis=1)) / len(Z)"
      ]
    },
    {
      "cell_type": "code",
      "execution_count": 54,
      "metadata": {
        "colab": {
          "base_uri": "https://localhost:8080/",
          "height": 279
        },
        "id": "QZ9IEpRFbe_-",
        "outputId": "213644ab-022d-4ef1-f882-c8b0d367b664"
      },
      "outputs": [
        {
          "data": {
            "image/png": "[encoded data removed]",
            "text/plain": [
              "<Figure size 432x288 with 2 Axes>"
            ]
          },
          "metadata": {
            "needs_background": "light"
          },
          "output_type": "display_data"
        }
      ],
      "source": [
        "d = {'Z': tf.argmax(Z, axis=1), 'Y': tf.argmax(y_test, axis=1)}\n",
        "df = pd.DataFrame(data=d )\n",
        "confusion_matrix = pd.crosstab(df['Y'],df['Z'], rownames=['Actual'], colnames=['Predicted'])\n",
        "\n",
        "sn.heatmap(confusion_matrix,cmap=\"Blues\", annot=True,annot_kws={\"size\": 16}, fmt='g')\n",
        "plt.show()"
      ]
    }
  ],
  "metadata": {
    "accelerator": "GPU",
    "colab": {
      "collapsed_sections": [],
      "name": "สำเนาของ Run(ทำนาย ST5 ด้วย RQ).ipynb",
      "provenance": []
    },
    "kernelspec": {
      "display_name": "Python 3.9.15 ('tf')",
      "language": "python",
      "name": "python3"
    },
    "language_info": {
      "codemirror_mode": {
        "name": "ipython",
        "version": 3
      },
      "file_extension": ".py",
      "mimetype": "text/x-python",
      "name": "python",
      "nbconvert_exporter": "python",
      "pygments_lexer": "ipython3",
      "version": "3.9.15"
    },
    "vscode": {
      "interpreter": {
        "hash": "52ee2977380704a66854748a73250e0671a9318bd5b3fd45a3df9f851ae61629"
      }
    }
  },
  "nbformat": 4,
  "nbformat_minor": 0
}
